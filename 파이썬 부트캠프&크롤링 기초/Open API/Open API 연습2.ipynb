{
 "cells": [
  {
   "cell_type": "code",
   "execution_count": 2,
   "id": "c118d1aa",
   "metadata": {
    "scrolled": true
   },
   "outputs": [
    {
     "name": "stdout",
     "output_type": "stream",
     "text": [
      "Natures Bounty <b>Protein</b> Vitamin vanilla 네이처스 바운티 바닐라 <b>단백질</b> 비타민 16oz(453g) 316009400 https://search.shopping.naver.com/gate.nhn?id=22296811913\n",
      "뉴초유 <b>단백질</b> 분말 <b>단백질</b> 덩어리 고단백 결정체 유산균 농축유청단백 면역글로불린 건강간식 24875100 https://search.shopping.naver.com/gate.nhn?id=82613423994\n",
      "<b>단백질</b>파우더 <b>단백질</b><b>보충제</b> <b>단백질</b>하루섭취량 <b>단백질</b>음식 <b>단백질</b>섭취 완두단백 우유단백 식물성 동물성 23736000 https://search.shopping.naver.com/gate.nhn?id=82560155975\n",
      "Raw Organic <b>Protein</b> Powder by Garden of Life 20 oz 13884200 https://search.shopping.naver.com/gate.nhn?id=12379547211\n",
      "경성건강원 3W 산양유 <b>단백질</b> 분말 280g 7470000 https://search.shopping.naver.com/gate.nhn?id=82832115587\n",
      "3W 초유<b>단백질</b>분말 PRO 유청<b>단백질</b>분말 WPC WPI WPH 280g 6450000 https://search.shopping.naver.com/gate.nhn?id=82617116670\n",
      "분리유청<b>단백질</b> WPI 아미노산 미네랄 <b>단백질</b>파우더 초코맛 500g 5400000 https://search.shopping.naver.com/gate.nhn?id=82484689473\n",
      "<b>단백질</b>파우더 농축유청<b>프로틴</b> 아미노산 비타민 요거트향 500g 4800000 https://search.shopping.naver.com/gate.nhn?id=82484731120\n",
      "나우푸드  Sports  Pea <b>프로틴</b>  Vanilla Toffee  2 lb 3668330 https://search.shopping.naver.com/gate.nhn?id=27379480551\n",
      "일본직발송 <b>단백질</b> 훼이100 초콜릿 풍미 3000g 3044800 https://search.shopping.naver.com/gate.nhn?id=27168724156\n"
     ]
    }
   ],
   "source": [
    "import requests\n",
    "import pprint\n",
    "\n",
    "client_id = '04AD1yixl394xuaJeR67'\n",
    "client_secret = 'LR2XGuxKFw'\n",
    "\n",
    "naver_open_api = 'https://openapi.naver.com/v1/search/shop.json?query=단백질쉐이&sort=dsc'\n",
    "header_params = {\"X-naver-Client-Id\":client_id, \"X-naver-Client-Secret\":client_secret}\n",
    "res = requests.get(naver_open_api, headers = header_params)\n",
    "# html을 이용한 크롤링의 경우 requsts.get('html주소')\n",
    "\n",
    "if res.status_code == 200:\n",
    "    data = res.json() # 윗줄 코드에서 .get메서드를 통해 객체 res에 정보 삽입\n",
    "    # res에 삽입된 정보를 json데이터 포맷을 이용하여 data에 저장\n",
    "    for item in data['items']:\n",
    "        print(item['title'],item['lprice'],item['link'])\n",
    "else:\n",
    "    print('Error Code',res.status_code)"
   ]
  },
  {
   "cell_type": "code",
   "execution_count": null,
   "id": "45272e71",
   "metadata": {},
   "outputs": [],
   "source": []
  },
  {
   "cell_type": "code",
   "execution_count": 12,
   "id": "617247d8",
   "metadata": {},
   "outputs": [],
   "source": [
    "import requests\n",
    "import pprint\n",
    "import openpyxl\n",
    "\n",
    "client_id = \"04AD1yixl394xuaJeR67\"\n",
    "client_secret = \"LR2XGuxKFw\"\n",
    "start, num = 1,0\n",
    "#-------------------------------------\n",
    "excel_file = openpyxl.Workbook()\n",
    "excel_sheet = excel_file.active\n",
    "excel_sheet.column_dimensions['B'].width=100\n",
    "excel_sheet.column_dimensions['C'].width=20\n",
    "excel_sheet.column_dimensions['D'].width=100\n",
    "excel_sheet.append(['순위','상품명','가격','링크'])\n",
    "# ----- 여기까지 엑셀 시트 만들기 -----\n",
    "\n",
    "for index in range(10):\n",
    "    start_num = start + (index*100) #시작번호 설정: 1, 101, 201, 301,~~~,901\n",
    "    naver_open_api = \"https://openapi.naver.com/v1/search/shop.json?query=단백질쉐이\"\n",
    "    header_params = {\"X-naver-Client-Id\":client_id, \"X-naver-Client-Secret\":client_secret}\n",
    "    res = requests.get(naver_open_api, headers = header_params)\n",
    "    if res.status_code == 200:\n",
    "        data = res.json()\n",
    "        for item in data['items']:\n",
    "            num = num+1\n",
    "            excel_sheet.append([num,item['title'],item['lprice'],item['link']])\n",
    "    else:\n",
    "        print(\"Error Code:\", res.status_code)\n",
    "                            \n",
    "                                \n",
    "excel_file.save(\"openAPI연습2.xlsx\")\n",
    "excel_file.close()"
   ]
  },
  {
   "cell_type": "code",
   "execution_count": null,
   "id": "0cc08be6",
   "metadata": {},
   "outputs": [],
   "source": []
  },
  {
   "cell_type": "code",
   "execution_count": null,
   "id": "f2fef29c",
   "metadata": {},
   "outputs": [],
   "source": []
  }
 ],
 "metadata": {
  "kernelspec": {
   "display_name": "Python 3",
   "language": "python",
   "name": "python3"
  },
  "language_info": {
   "codemirror_mode": {
    "name": "ipython",
    "version": 3
   },
   "file_extension": ".py",
   "mimetype": "text/x-python",
   "name": "python",
   "nbconvert_exporter": "python",
   "pygments_lexer": "ipython3",
   "version": "3.8.8"
  }
 },
 "nbformat": 4,
 "nbformat_minor": 5
}
