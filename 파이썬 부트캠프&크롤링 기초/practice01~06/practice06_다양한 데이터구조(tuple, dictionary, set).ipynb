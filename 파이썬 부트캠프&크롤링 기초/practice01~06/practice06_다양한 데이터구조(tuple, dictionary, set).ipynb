{
 "cells": [
  {
   "cell_type": "markdown",
   "id": "c2967f67",
   "metadata": {},
   "source": [
    "데이터 구조의 종류: 리스트, 튜플, 딕셔너리, 집합"
   ]
  },
  {
   "cell_type": "markdown",
   "id": "b4d138ff",
   "metadata": {},
   "source": [
    "### 데이터 구조 - tuple\n",
    "\n",
    "* 선언 + 입력 : 변수명 = (1, 2, 3, 4) #리스트는 대괄호[ ]였음!\n",
    "* 읽기: 변수명[인덱스번호]\n",
    "* 추가&삭제: 튜플은 중도 추가/삭제 불가 ex. append.()함수, .remove()함수 등등 사용 불가!\n",
    "* 수정: 중도 수정 불가\n",
    "\n",
    "data()\n",
    "\n",
    "* 본래 함수의 결과값(return)은 오로지 하나여야 함.But, 파이썬의 경우 튜플을 이용하여 2개 이상의 결과값을 한번에 도출해낼 수 있음.\n",
    "→ 사실 튜플로 나타난 결과값도 하나임. 여러개 도출해 낼 수 있는 이유는 결과값 데이터를 튜플 변수로써 다루기 때문임!"
   ]
  },
  {
   "cell_type": "code",
   "execution_count": 7,
   "id": "0bd57bdd",
   "metadata": {},
   "outputs": [],
   "source": [
    "data = (1, 2, 3)"
   ]
  },
  {
   "cell_type": "code",
   "execution_count": 8,
   "id": "2f4839a3",
   "metadata": {},
   "outputs": [
    {
     "data": {
      "text/plain": [
       "2"
      ]
     },
     "execution_count": 8,
     "metadata": {},
     "output_type": "execute_result"
    }
   ],
   "source": [
    "data[1]"
   ]
  },
  {
   "cell_type": "code",
   "execution_count": 5,
   "id": "8a547cc2",
   "metadata": {},
   "outputs": [
    {
     "data": {
      "text/plain": [
       "tuple"
      ]
     },
     "execution_count": 5,
     "metadata": {},
     "output_type": "execute_result"
    }
   ],
   "source": [
    "type(data)"
   ]
  },
  {
   "cell_type": "code",
   "execution_count": 6,
   "id": "dbc95447",
   "metadata": {},
   "outputs": [
    {
     "data": {
      "text/plain": [
       "(1, 2, 3)"
      ]
     },
     "execution_count": 6,
     "metadata": {},
     "output_type": "execute_result"
    }
   ],
   "source": [
    "data"
   ]
  },
  {
   "cell_type": "code",
   "execution_count": 10,
   "id": "739f71a2",
   "metadata": {},
   "outputs": [],
   "source": [
    "data1 = (1, 2, 3)\n",
    "data2 = (4, 5, 6)"
   ]
  },
  {
   "cell_type": "code",
   "execution_count": 11,
   "id": "bb55b424",
   "metadata": {},
   "outputs": [
    {
     "data": {
      "text/plain": [
       "(1, 2, 3, 4, 5, 6)"
      ]
     },
     "execution_count": 11,
     "metadata": {},
     "output_type": "execute_result"
    }
   ],
   "source": [
    "data1 + data2"
   ]
  },
  {
   "cell_type": "code",
   "execution_count": 13,
   "id": "e98eb3d1",
   "metadata": {},
   "outputs": [
    {
     "data": {
      "text/plain": [
       "(1, 2, 3, 1, 2, 3, 1, 2, 3)"
      ]
     },
     "execution_count": 13,
     "metadata": {},
     "output_type": "execute_result"
    }
   ],
   "source": [
    "data1*3 #이건 그저 참고용!\n",
    "# 튜플과 튜플끼리의 덧셈은 가능하나, 곱셈은 불가함(뺄셈도 불가)"
   ]
  },
  {
   "cell_type": "markdown",
   "id": "2a1fcac2",
   "metadata": {},
   "source": [
    "------"
   ]
  },
  {
   "cell_type": "code",
   "execution_count": 16,
   "id": "5f689540",
   "metadata": {},
   "outputs": [],
   "source": [
    "x = 1\n",
    "y = 2\n",
    "# 변수끼리 대입값 바꾸기(=수합)"
   ]
  },
  {
   "cell_type": "code",
   "execution_count": 17,
   "id": "991b6b2a",
   "metadata": {},
   "outputs": [],
   "source": [
    "temp = x #임시변수에 x값 먼저 보관하기\n",
    "x = y #x에 y넣기\n",
    "y = temp #변수 temp에 보관되었던 x값 y에 넣기 ▼(결과)▼"
   ]
  },
  {
   "cell_type": "code",
   "execution_count": 18,
   "id": "ce756d44",
   "metadata": {},
   "outputs": [
    {
     "data": {
      "text/plain": [
       "2"
      ]
     },
     "execution_count": 18,
     "metadata": {},
     "output_type": "execute_result"
    }
   ],
   "source": [
    "x"
   ]
  },
  {
   "cell_type": "code",
   "execution_count": 19,
   "id": "ce57429a",
   "metadata": {},
   "outputs": [
    {
     "data": {
      "text/plain": [
       "1"
      ]
     },
     "execution_count": 19,
     "metadata": {},
     "output_type": "execute_result"
    }
   ],
   "source": [
    "y"
   ]
  },
  {
   "cell_type": "markdown",
   "id": "7009187f",
   "metadata": {},
   "source": [
    "↓ 튜플을 이용하는 방법 ↓"
   ]
  },
  {
   "cell_type": "code",
   "execution_count": 20,
   "id": "fbff2367",
   "metadata": {},
   "outputs": [],
   "source": [
    "x, y = y, x #프로그램이 좌변과 우변을 튜플로 인식함 # swapping"
   ]
  },
  {
   "cell_type": "code",
   "execution_count": 21,
   "id": "3a65ee6c",
   "metadata": {},
   "outputs": [
    {
     "data": {
      "text/plain": [
       "1"
      ]
     },
     "execution_count": 21,
     "metadata": {},
     "output_type": "execute_result"
    }
   ],
   "source": [
    "x"
   ]
  },
  {
   "cell_type": "code",
   "execution_count": 22,
   "id": "c70b25db",
   "metadata": {},
   "outputs": [
    {
     "data": {
      "text/plain": [
       "2"
      ]
     },
     "execution_count": 22,
     "metadata": {},
     "output_type": "execute_result"
    }
   ],
   "source": [
    "y"
   ]
  },
  {
   "cell_type": "markdown",
   "id": "0cde4d85",
   "metadata": {},
   "source": [
    "--------"
   ]
  },
  {
   "cell_type": "code",
   "execution_count": 24,
   "id": "e2297ac3",
   "metadata": {},
   "outputs": [],
   "source": [
    "def quot_and_rem(x,y):\n",
    "    quot = x // y #몫\n",
    "    rem = x % y #나머지\n",
    "    return(quot, rem) #괄호 안써도 됨 → 'return quot, rem'\n",
    "\n",
    "(quot, rem) = quot_and_rem(3,10)"
   ]
  },
  {
   "cell_type": "code",
   "execution_count": 25,
   "id": "8689034a",
   "metadata": {},
   "outputs": [
    {
     "data": {
      "text/plain": [
       "0"
      ]
     },
     "execution_count": 25,
     "metadata": {},
     "output_type": "execute_result"
    }
   ],
   "source": [
    "quot"
   ]
  },
  {
   "cell_type": "code",
   "execution_count": 26,
   "id": "dd23e80f",
   "metadata": {},
   "outputs": [
    {
     "data": {
      "text/plain": [
       "3"
      ]
     },
     "execution_count": 26,
     "metadata": {},
     "output_type": "execute_result"
    }
   ],
   "source": [
    "rem"
   ]
  },
  {
   "cell_type": "markdown",
   "id": "3e579659",
   "metadata": {},
   "source": [
    "--------"
   ]
  },
  {
   "cell_type": "code",
   "execution_count": 3,
   "id": "37411bbf",
   "metadata": {},
   "outputs": [],
   "source": [
    "data1 = (1, 2, 3)"
   ]
  },
  {
   "cell_type": "code",
   "execution_count": 4,
   "id": "d743526f",
   "metadata": {},
   "outputs": [
    {
     "data": {
      "text/plain": [
       "tuple"
      ]
     },
     "execution_count": 4,
     "metadata": {},
     "output_type": "execute_result"
    }
   ],
   "source": [
    "type(data1)"
   ]
  },
  {
   "cell_type": "code",
   "execution_count": 5,
   "id": "f158ae93",
   "metadata": {},
   "outputs": [],
   "source": [
    "data1_list = list(data1)"
   ]
  },
  {
   "cell_type": "code",
   "execution_count": 6,
   "id": "e12a0bcf",
   "metadata": {},
   "outputs": [
    {
     "name": "stdout",
     "output_type": "stream",
     "text": [
      "[1, 2, 3]\n"
     ]
    },
    {
     "data": {
      "text/plain": [
       "list"
      ]
     },
     "execution_count": 6,
     "metadata": {},
     "output_type": "execute_result"
    }
   ],
   "source": [
    "print(data1_list)\n",
    "type(data1_list) #튜플은 리스트로, 리스트는 튜플로 바꿀 수 있음. 튜플을 리스트로 바꾸면 데이터 수정, 삭제, 추가가 가능해짐!"
   ]
  },
  {
   "cell_type": "code",
   "execution_count": 37,
   "id": "703c0b4a",
   "metadata": {},
   "outputs": [],
   "source": [
    "data1_tuple = tuple(data1_list)"
   ]
  },
  {
   "cell_type": "code",
   "execution_count": 38,
   "id": "34c79173",
   "metadata": {},
   "outputs": [
    {
     "data": {
      "text/plain": [
       "tuple"
      ]
     },
     "execution_count": 38,
     "metadata": {},
     "output_type": "execute_result"
    }
   ],
   "source": [
    "type(data1_tuple)"
   ]
  },
  {
   "cell_type": "code",
   "execution_count": null,
   "id": "6714f175",
   "metadata": {},
   "outputs": [],
   "source": []
  },
  {
   "cell_type": "code",
   "execution_count": null,
   "id": "71b496b8",
   "metadata": {},
   "outputs": [],
   "source": []
  },
  {
   "cell_type": "markdown",
   "id": "69f216fb",
   "metadata": {},
   "source": [
    "### 데이터 구조 - 딕셔너리dictionary\n",
    "\n",
    "* 선언 + 입력 : 변수명 = {키:값, 키:값 ...} 또는 dict(), 초기값과 함께 선언\n",
    "* 읽기: 변수명[키]\n",
    "* 추가: 변수명[키] = 값\n",
    "* 삭제: del 변수명[삭제할 키]\n",
    "* 수정: 변수명[수정할 키] = 수정할 값"
   ]
  },
  {
   "cell_type": "code",
   "execution_count": 34,
   "id": "c6195e7a",
   "metadata": {},
   "outputs": [],
   "source": [
    "data_list = list() # data_list = [...] \n",
    "data_tuple = tuple() # data_tuple = (...)\n",
    "data_dict = dict() # data_dict = {...}\n",
    "data_set = set() # {} ← dictionary와 겹치므로, 집합은 주로 'set()'를 사용함\n",
    "\n",
    "# ex) 빈 list(/tuple/dictionary/set)만들기 → data = list()"
   ]
  },
  {
   "cell_type": "code",
   "execution_count": 26,
   "id": "18c23a3f",
   "metadata": {},
   "outputs": [],
   "source": [
    "data_dict = {'Apple':'A', 'Banana':'B', 'Cherry':'C'}"
   ]
  },
  {
   "cell_type": "code",
   "execution_count": 27,
   "id": "1589a511",
   "metadata": {},
   "outputs": [
    {
     "data": {
      "text/plain": [
       "'A'"
      ]
     },
     "execution_count": 27,
     "metadata": {},
     "output_type": "execute_result"
    }
   ],
   "source": [
    "data_dict['Apple']"
   ]
  },
  {
   "cell_type": "code",
   "execution_count": 28,
   "id": "fe397441",
   "metadata": {},
   "outputs": [],
   "source": [
    "data_dict['Dragon fruit'] = 'D'"
   ]
  },
  {
   "cell_type": "code",
   "execution_count": 29,
   "id": "7aec1150",
   "metadata": {},
   "outputs": [
    {
     "data": {
      "text/plain": [
       "{'Apple': 'A', 'Banana': 'B', 'Cherry': 'C', 'Dragon fruit': 'D'}"
      ]
     },
     "execution_count": 29,
     "metadata": {},
     "output_type": "execute_result"
    }
   ],
   "source": [
    "data_dict"
   ]
  },
  {
   "cell_type": "code",
   "execution_count": 30,
   "id": "692d46e4",
   "metadata": {},
   "outputs": [],
   "source": [
    "del data_dict['Banana']"
   ]
  },
  {
   "cell_type": "code",
   "execution_count": 31,
   "id": "8145c458",
   "metadata": {},
   "outputs": [
    {
     "data": {
      "text/plain": [
       "{'Apple': 'A', 'Cherry': 'C', 'Dragon fruit': 'D'}"
      ]
     },
     "execution_count": 31,
     "metadata": {},
     "output_type": "execute_result"
    }
   ],
   "source": [
    "data_dict"
   ]
  },
  {
   "cell_type": "code",
   "execution_count": 33,
   "id": "e06c9869",
   "metadata": {},
   "outputs": [],
   "source": [
    "data_dict['Dragon fruit'] = 'DF'"
   ]
  },
  {
   "cell_type": "code",
   "execution_count": 34,
   "id": "0adc97d0",
   "metadata": {},
   "outputs": [
    {
     "data": {
      "text/plain": [
       "{'Apple': 'A', 'Cherry': 'C', 'Dragon fruit': 'DF'}"
      ]
     },
     "execution_count": 34,
     "metadata": {},
     "output_type": "execute_result"
    }
   ],
   "source": [
    "data_dict"
   ]
  },
  {
   "cell_type": "markdown",
   "id": "9b836520",
   "metadata": {},
   "source": [
    "--------"
   ]
  },
  {
   "cell_type": "markdown",
   "id": "09a24ee5",
   "metadata": {},
   "source": [
    "key만 출력하는 법 / value만 출력하는 법"
   ]
  },
  {
   "cell_type": "code",
   "execution_count": 36,
   "id": "d7f1283d",
   "metadata": {},
   "outputs": [
    {
     "data": {
      "text/plain": [
       "dict_keys(['Apple', 'Cherry', 'Dragon fruit'])"
      ]
     },
     "execution_count": 36,
     "metadata": {},
     "output_type": "execute_result"
    }
   ],
   "source": [
    "data_dict.keys()#key(키)만 리스트로 추출함"
   ]
  },
  {
   "cell_type": "code",
   "execution_count": 38,
   "id": "2b37628d",
   "metadata": {},
   "outputs": [
    {
     "name": "stdout",
     "output_type": "stream",
     "text": [
      "Apple\n",
      "Cherry\n",
      "Dragon fruit\n"
     ]
    }
   ],
   "source": [
    "for key in data_dict.keys():\n",
    "    print (key)"
   ]
  },
  {
   "cell_type": "code",
   "execution_count": 42,
   "id": "4bf07baa",
   "metadata": {},
   "outputs": [
    {
     "data": {
      "text/plain": [
       "dict_values(['A', 'C', 'DF'])"
      ]
     },
     "execution_count": 42,
     "metadata": {},
     "output_type": "execute_result"
    }
   ],
   "source": [
    "data_dict.values()#value(값)만 리스트로 추출함"
   ]
  },
  {
   "cell_type": "code",
   "execution_count": 43,
   "id": "eae06f9a",
   "metadata": {},
   "outputs": [
    {
     "name": "stdout",
     "output_type": "stream",
     "text": [
      "A\n",
      "C\n",
      "DF\n"
     ]
    }
   ],
   "source": [
    "for value in data_dict.values():\n",
    "    print (value)"
   ]
  },
  {
   "cell_type": "code",
   "execution_count": 44,
   "id": "fc598faa",
   "metadata": {},
   "outputs": [
    {
     "data": {
      "text/plain": [
       "dict_items([('Apple', 'A'), ('Cherry', 'C'), ('Dragon fruit', 'DF')])"
      ]
     },
     "execution_count": 44,
     "metadata": {},
     "output_type": "execute_result"
    }
   ],
   "source": [
    "data_dict.items()"
   ]
  },
  {
   "cell_type": "code",
   "execution_count": 46,
   "id": "fa62e165",
   "metadata": {},
   "outputs": [
    {
     "name": "stdout",
     "output_type": "stream",
     "text": [
      "('Apple', 'A')\n",
      "('Cherry', 'C')\n",
      "('Dragon fruit', 'DF')\n"
     ]
    }
   ],
   "source": [
    "for item in data_dict.items(): #.itmes()는 키와 값 한꺼번에 출력!\n",
    "    print (item)"
   ]
  },
  {
   "cell_type": "code",
   "execution_count": 47,
   "id": "51d08a0f",
   "metadata": {},
   "outputs": [
    {
     "name": "stdout",
     "output_type": "stream",
     "text": [
      "A\n",
      "C\n",
      "DF\n"
     ]
    }
   ],
   "source": [
    "for key in data_dict.keys():\n",
    "    print (data_dict[key])"
   ]
  },
  {
   "cell_type": "code",
   "execution_count": null,
   "id": "90ccd853",
   "metadata": {},
   "outputs": [],
   "source": []
  },
  {
   "cell_type": "code",
   "execution_count": null,
   "id": "f17d40b9",
   "metadata": {},
   "outputs": [],
   "source": []
  },
  {
   "cell_type": "markdown",
   "id": "83fa59f4",
   "metadata": {},
   "source": [
    "### 데이터 구조 - 집합 set\n",
    "\n",
    "* 선언 + 입력 \n",
    ": 변수명 = set()(←빈 집합 만들기) 또는 변수명 = {데이터1, 데이터2, ...} 또는 변수명 = set(데이터1) 또는 변수명 = set{(데이터1, 데이터2,...)}\n",
    "* 읽기: 집합은 인덱스번호를 지원하지X\n",
    "* 추가: 변수명.add(데이터1) → 데이터 1개 추가할 경우 / 변수명.update([데이터1, 데이터2, ...]) → 여러 개의 데이터를 추가할 경우\n",
    "* 삭제: 특정 데이터를 삭제할 경우 - 변수명.remove(특정 데이터)\n",
    "* 수정: \n"
   ]
  },
  {
   "cell_type": "code",
   "execution_count": 10,
   "id": "cc9efa72",
   "metadata": {},
   "outputs": [],
   "source": [
    "data_set = {'apple', 'dell', 'samsung', 'lg'} # ← dictionary는 '키:값'을 같이 입력해야 함."
   ]
  },
  {
   "cell_type": "code",
   "execution_count": 4,
   "id": "e27f0a9a",
   "metadata": {},
   "outputs": [
    {
     "data": {
      "text/plain": [
       "set"
      ]
     },
     "execution_count": 4,
     "metadata": {},
     "output_type": "execute_result"
    }
   ],
   "source": [
    "type(data_set)"
   ]
  },
  {
   "cell_type": "code",
   "execution_count": 6,
   "id": "3a02e98f",
   "metadata": {},
   "outputs": [],
   "source": [
    "data_set = set('apple') #데이터 요소(=원소)가 하나만 있을 땐 'set()'함수를 직접적으로 이용해도 되지만, 데이터 요소가 2개 이상일 때에는 불가함"
   ]
  },
  {
   "cell_type": "code",
   "execution_count": 7,
   "id": "616c868f",
   "metadata": {},
   "outputs": [],
   "source": [
    "# set()함수를 이용하여 두 개 이상의 데이터 요소를 표기하고 싶을 때 ↓\n",
    "\n",
    "data_set = ({'apple', 'dell'})"
   ]
  },
  {
   "cell_type": "code",
   "execution_count": 8,
   "id": "05e21cda",
   "metadata": {},
   "outputs": [
    {
     "data": {
      "text/plain": [
       "{'apple', 'dell'}"
      ]
     },
     "execution_count": 8,
     "metadata": {},
     "output_type": "execute_result"
    }
   ],
   "source": [
    "data_set"
   ]
  },
  {
   "cell_type": "code",
   "execution_count": 31,
   "id": "4ca7ade7",
   "metadata": {},
   "outputs": [],
   "source": [
    "# set 데이터 구조는 인덱스번호를 지원하지 않음"
   ]
  },
  {
   "cell_type": "code",
   "execution_count": 12,
   "id": "b1d987af",
   "metadata": {},
   "outputs": [],
   "source": [
    "data_set = {'apple', 'dell', 'samsung', 'lg'}"
   ]
  },
  {
   "cell_type": "code",
   "execution_count": 13,
   "id": "ba6787d5",
   "metadata": {},
   "outputs": [
    {
     "data": {
      "text/plain": [
       "False"
      ]
     },
     "execution_count": 13,
     "metadata": {},
     "output_type": "execute_result"
    }
   ],
   "source": [
    "'motorola' in data_set # 'motorola'라는 데이터요소가 data_set라는 집합에 들어있는지 bulean형태로 확인해줌"
   ]
  },
  {
   "cell_type": "code",
   "execution_count": 14,
   "id": "41d29d7f",
   "metadata": {},
   "outputs": [
    {
     "name": "stdout",
     "output_type": "stream",
     "text": [
      "{'apple', 'dell', 'samsung', 'lg'}\n"
     ]
    }
   ],
   "source": [
    "if 'apple' in data_set:\n",
    "    print(data_set)"
   ]
  },
  {
   "cell_type": "code",
   "execution_count": 16,
   "id": "e7807154",
   "metadata": {},
   "outputs": [],
   "source": [
    "data1 = {'apple','samsung', 'lg'} #스마트폰 생산 업체\n",
    "data2 = {'samsung','lg','xiaomi'} #TV 생산 업체"
   ]
  },
  {
   "cell_type": "code",
   "execution_count": 17,
   "id": "83894b8f",
   "metadata": {},
   "outputs": [
    {
     "data": {
      "text/plain": [
       "{'lg', 'samsung'}"
      ]
     },
     "execution_count": 17,
     "metadata": {},
     "output_type": "execute_result"
    }
   ],
   "source": [
    "data1 & data2 # '&'은 교집합을 의미함"
   ]
  },
  {
   "cell_type": "code",
   "execution_count": 19,
   "id": "742c57ec",
   "metadata": {},
   "outputs": [
    {
     "data": {
      "text/plain": [
       "{'apple', 'lg', 'samsung', 'xiaomi'}"
      ]
     },
     "execution_count": 19,
     "metadata": {},
     "output_type": "execute_result"
    }
   ],
   "source": [
    "data1 | data2 # '|'는 합집합을 의미함"
   ]
  },
  {
   "cell_type": "code",
   "execution_count": 20,
   "id": "8ae18985",
   "metadata": {},
   "outputs": [
    {
     "data": {
      "text/plain": [
       "{'apple'}"
      ]
     },
     "execution_count": 20,
     "metadata": {},
     "output_type": "execute_result"
    }
   ],
   "source": [
    "data1 - data2 #'-'는 차집합을 의미함"
   ]
  },
  {
   "cell_type": "code",
   "execution_count": 36,
   "id": "280aff5c",
   "metadata": {},
   "outputs": [
    {
     "data": {
      "text/plain": [
       "{'apple', 'xiaomi'}"
      ]
     },
     "execution_count": 36,
     "metadata": {},
     "output_type": "execute_result"
    }
   ],
   "source": [
    "data1 ^ data2 # '^'는 합집합에서 교집합을 뺀 것을 의미함"
   ]
  },
  {
   "cell_type": "code",
   "execution_count": 22,
   "id": "c98d773d",
   "metadata": {},
   "outputs": [],
   "source": [
    "#집합set는 순서가 없음! 중복도 없음!"
   ]
  },
  {
   "cell_type": "code",
   "execution_count": 24,
   "id": "cba846dc",
   "metadata": {},
   "outputs": [],
   "source": [
    "data_list = ['apple', 'dell', 'samsung', 'lg','apple', 'dell', 'samsung', 'lg','apple', 'dell', 'samsung', 'lg'] # 중복된 데이터"
   ]
  },
  {
   "cell_type": "code",
   "execution_count": 28,
   "id": "ed564f9d",
   "metadata": {},
   "outputs": [
    {
     "data": {
      "text/plain": [
       "{'apple', 'dell', 'lg', 'samsung'}"
      ]
     },
     "execution_count": 28,
     "metadata": {},
     "output_type": "execute_result"
    }
   ],
   "source": [
    "#중복된 데이터 없애기 위해 집합set를 이용함\n",
    "data = set(data_list)\n",
    "data"
   ]
  },
  {
   "cell_type": "code",
   "execution_count": 30,
   "id": "71fa4607",
   "metadata": {},
   "outputs": [
    {
     "data": {
      "text/plain": [
       "['apple', 'dell', 'samsung', 'lg']"
      ]
     },
     "execution_count": 30,
     "metadata": {},
     "output_type": "execute_result"
    }
   ],
   "source": [
    "# 리스트를 집합으로 바꾸었던 것을 다시 리스트로 바꾸면..\n",
    "list(data)"
   ]
  }
 ],
 "metadata": {
  "kernelspec": {
   "display_name": "Python 3",
   "language": "python",
   "name": "python3"
  },
  "language_info": {
   "codemirror_mode": {
    "name": "ipython",
    "version": 3
   },
   "file_extension": ".py",
   "mimetype": "text/x-python",
   "name": "python",
   "nbconvert_exporter": "python",
   "pygments_lexer": "ipython3",
   "version": "3.8.8"
  }
 },
 "nbformat": 4,
 "nbformat_minor": 5
}
