{
 "cells": [
  {
   "cell_type": "markdown",
   "id": "bba1f7bc",
   "metadata": {},
   "source": [
    "#### 문자열(string)"
   ]
  },
  {
   "cell_type": "code",
   "execution_count": 5,
   "id": "fc2bde76",
   "metadata": {},
   "outputs": [],
   "source": [
    "article = \"\"\"According to latest data from PHE, a single dose of vaccine reduces a person's chances of catching coronavirus and needing hospital treatment by about 75%, even with Delta circulating in the UK.\n",
    "\n",
    "And among people who had received the recommended two doses, the chances of catching and being hospitalised by coronavirus was reduced by more than 90%.\n",
    "\n",
    "Of 806 people infected with the Delta variant who ended up hospital in England between 1 February and 14 June 2021:\n",
    "\n",
    "527 (65%) people were unvaccinated\n",
    "135 (17%) were more than 21 days after their first dose of vaccine\n",
    "84 (10%) were more than 14 days after their second dose\n",
    "As of 14 June, there have been 73 deaths in England of people who were confirmed as having the Delta variant and who died within 28 days of a positive test, and of these:\n",
    "\n",
    "34 (47%) were unvaccinated\n",
    "10 (14%) were more than 21 days after their first dose of vaccine\n",
    "26 (36%) were more than 14 days after their second dose\"\"\""
   ]
  },
  {
   "cell_type": "code",
   "execution_count": 10,
   "id": "4a4a2109",
   "metadata": {},
   "outputs": [
    {
     "data": {
      "text/plain": [
       "2"
      ]
     },
     "execution_count": 10,
     "metadata": {},
     "output_type": "execute_result"
    }
   ],
   "source": [
    "article.count(\"unvaccinated\") #article이라는 문자열 변수에서 'unvaccinated'라는 단어가 몇 개 들어가있는지 찾는 함수"
   ]
  },
  {
   "cell_type": "markdown",
   "id": "e29f69d1",
   "metadata": {},
   "source": [
    "▼945라는 수치는 띄어쓰기, 행row가 달라지는 지점 개수 까지 모두 포함한 것\n",
    "▼13이라는 수치는 latest라는 단어가 몇 번째 문자에서부터 시작되는지를 찾는 함수 "
   ]
  },
  {
   "cell_type": "code",
   "execution_count": 22,
   "id": "129c6c57",
   "metadata": {},
   "outputs": [
    {
     "name": "stdout",
     "output_type": "stream",
     "text": [
      "2\n",
      "945\n",
      "0\n",
      "13\n",
      "According to latest data from PHE, a single dose of vaccine reduces a person's chances of catching coronavirus and needing hospital treatment by about 75%, even with Delta circulating in the UK.\n",
      "\n",
      "And among people who had received the recommended two doses, the chances of catching and being hospitalised by coronavirus was reduced by more than 90%.\n",
      "\n",
      "Of 806 people infected with the Delta variant who ended up hospital in England between 1 February and 14 June 2021:\n",
      "\n",
      "527 (65%) people were vaccinated\n",
      "135 (17%) were more than 21 days after their first dose of vaccine\n",
      "84 (10%) were more than 14 days after their second dose\n",
      "As of 14 June, there have been 73 deaths in England of people who were confirmed as having the Delta variant and who died within 28 days of a positive test, and of these:\n",
      "\n",
      "34 (47%) were vaccinated\n",
      "10 (14%) were more than 21 days after their first dose of vaccine\n",
      "26 (36%) were more than 14 days after their second dose\n"
     ]
    }
   ],
   "source": [
    "print (article.count(\"unvaccinated\"))\n",
    "print (len(article))#article이라는 문자열 변수 안에 들어있는 문자(알파벳) 개수는 몇 개인지?\n",
    "print (article.find(\"A\"))#'A'라는 문자가 몇 번째에 처음 등장하는지?(맨 앞 = 0번째) = '.find'는 인덱스 번호를 알려주는 함수임\n",
    "print (article.find(\"latest\"))\n",
    "print(article.replace(\"unvaccinated\", \"vaccinated\"))#특정 문자열을 다른 문자열로 바꾸기(왼쪽에서 오른쪽으로!)"
   ]
  },
  {
   "cell_type": "markdown",
   "id": "0ffff4ef",
   "metadata": {},
   "source": [
    "#### 인덱스index \n",
    "- 인덱스는 특정 데이터를 가리키는 번호를 나타냄. 0부터 시작. 역으로 갈 경우 마지막 문자부터 역순으로 -2, -3 ...\n",
    "- 슬라이싱slicing은 특정문자열부터 특정문자열까지 추출하고 싶을 때 사용"
   ]
  },
  {
   "cell_type": "code",
   "execution_count": 23,
   "id": "9051cd5a",
   "metadata": {},
   "outputs": [
    {
     "name": "stdout",
     "output_type": "stream",
     "text": [
      "c\n"
     ]
    }
   ],
   "source": [
    "print(article[1])"
   ]
  },
  {
   "cell_type": "code",
   "execution_count": 25,
   "id": "d959b36c",
   "metadata": {},
   "outputs": [],
   "source": [
    "string = 'python'"
   ]
  },
  {
   "cell_type": "code",
   "execution_count": 29,
   "id": "ba473e81",
   "metadata": {},
   "outputs": [
    {
     "name": "stdout",
     "output_type": "stream",
     "text": [
      "python\n",
      "h\n",
      "tho\n"
     ]
    }
   ],
   "source": [
    "print (string)\n",
    "print (string[3])\n",
    "print (string[2:5])#slicing슬라이싱의 경우 index번호는 2번 문자열부터 5번문자 직전인 4번 문자열까지만 추출해줌"
   ]
  },
  {
   "cell_type": "markdown",
   "id": "7a322a34",
   "metadata": {},
   "source": [
    "#### 문자열 특수 함수"
   ]
  },
  {
   "cell_type": "code",
   "execution_count": 33,
   "id": "9f6b0055",
   "metadata": {},
   "outputs": [
    {
     "name": "stdout",
     "output_type": "stream",
     "text": [
      "  computer  \n"
     ]
    },
    {
     "data": {
      "text/plain": [
       "'computer'"
      ]
     },
     "execution_count": 33,
     "metadata": {},
     "output_type": "execute_result"
    }
   ],
   "source": [
    "some_string = \"  computer  \" #문자열 앞뒤로 스페이스가 껴있는 경우\n",
    "print (some_string)\n",
    "some_string.strip() #앞뒤 껴있는 스페이스를 제거해줌"
   ]
  },
  {
   "cell_type": "code",
   "execution_count": 35,
   "id": "deede216",
   "metadata": {},
   "outputs": [
    {
     "data": {
      "text/plain": [
       "'commputer~~~'"
      ]
     },
     "execution_count": 35,
     "metadata": {},
     "output_type": "execute_result"
    }
   ],
   "source": [
    "some_string2 = \"!!!commputer~~~\"\n",
    "some_string2.strip(\"!\") #특정 문자열(!)을 제거하고 싶을 떄"
   ]
  }
 ],
 "metadata": {
  "kernelspec": {
   "display_name": "Python 3",
   "language": "python",
   "name": "python3"
  },
  "language_info": {
   "codemirror_mode": {
    "name": "ipython",
    "version": 3
   },
   "file_extension": ".py",
   "mimetype": "text/x-python",
   "name": "python",
   "nbconvert_exporter": "python",
   "pygments_lexer": "ipython3",
   "version": "3.8.8"
  }
 },
 "nbformat": 4,
 "nbformat_minor": 5
}
