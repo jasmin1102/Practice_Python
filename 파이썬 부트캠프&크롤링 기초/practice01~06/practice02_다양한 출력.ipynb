{
 "cells": [
  {
   "cell_type": "code",
   "execution_count": 1,
   "id": "7c73875f",
   "metadata": {},
   "outputs": [
    {
     "name": "stdout",
     "output_type": "stream",
     "text": [
      "I have a pen, I have an apple\n"
     ]
    }
   ],
   "source": [
    "print(\"I have a {}, I have an {}\".format(\"pen\", \"apple\"))"
   ]
  },
  {
   "cell_type": "code",
   "execution_count": 2,
   "id": "a33af61a",
   "metadata": {},
   "outputs": [
    {
     "name": "stdout",
     "output_type": "stream",
     "text": [
      "I have a apple, I have an pen\n",
      "I have a pen, I have an pen\n"
     ]
    }
   ],
   "source": [
    "print(\"I have a {1}, I have an {0}\".format(\"pen\", \"apple\")) #''.format' 함수(문자열 처리하는 용) 안의 가장 왼쪽 변수는 0번째\n",
    "print(\"I have a {0}, I have an {0}\".format(\"pen\", \"apple\"))"
   ]
  },
  {
   "cell_type": "code",
   "execution_count": 5,
   "id": "cc01d4f7",
   "metadata": {},
   "outputs": [
    {
     "name": "stdout",
     "output_type": "stream",
     "text": [
      "0.09\n"
     ]
    }
   ],
   "source": [
    "interest = 0.087\n",
    "print (format (interest, \".2f\")) # 0.087을 소숫점 '둘째'자리까지만 표시해주는 format함수"
   ]
  },
  {
   "cell_type": "code",
   "execution_count": 1,
   "id": "26617988",
   "metadata": {},
   "outputs": [
    {
     "name": "stdout",
     "output_type": "stream",
     "text": [
      "I have a pen, I have an a.\n"
     ]
    }
   ],
   "source": [
    "print(\"I have a %s, I have an %c.\" % (\"pen\", \"a\"))\n",
    "# '%s'는 문자열(두 글자 이상), %c'는 한 글자, '%f'는 부동소숫점, '%int'는 정수 가 들어갈 자리!"
   ]
  },
  {
   "cell_type": "code",
   "execution_count": 4,
   "id": "5821b6e7",
   "metadata": {},
   "outputs": [
    {
     "name": "stdout",
     "output_type": "stream",
     "text": [
      "My name is Jasmin, and her name is Jaina.\n"
     ]
    }
   ],
   "source": [
    "print((\"My name is {}, and her name is {}.\").format(\"Jasmin\", \"Jaina\"))"
   ]
  },
  {
   "cell_type": "code",
   "execution_count": 6,
   "id": "04486fd7",
   "metadata": {},
   "outputs": [
    {
     "name": "stdout",
     "output_type": "stream",
     "text": [
      "My name is Jaina, and her name is Jasmin.\n"
     ]
    }
   ],
   "source": [
    "print((\"My name is {1}, and her name is {0}.\").format(\"Jasmin\", \"Jaina\"))"
   ]
  },
  {
   "cell_type": "code",
   "execution_count": 8,
   "id": "9ccabf4e",
   "metadata": {},
   "outputs": [
    {
     "name": "stdout",
     "output_type": "stream",
     "text": [
      "0.060\n"
     ]
    }
   ],
   "source": [
    "interest = 0.05973\n",
    "print (format(interest, \".3f\"))"
   ]
  }
 ],
 "metadata": {
  "kernelspec": {
   "display_name": "Python 3",
   "language": "python",
   "name": "python3"
  },
  "language_info": {
   "codemirror_mode": {
    "name": "ipython",
    "version": 3
   },
   "file_extension": ".py",
   "mimetype": "text/x-python",
   "name": "python",
   "nbconvert_exporter": "python",
   "pygments_lexer": "ipython3",
   "version": "3.8.8"
  }
 },
 "nbformat": 4,
 "nbformat_minor": 5
}
