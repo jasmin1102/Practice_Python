{
 "cells": [
  {
   "cell_type": "code",
   "execution_count": 4,
   "id": "46737d1b",
   "metadata": {},
   "outputs": [],
   "source": [
    "def func1(parameter): #()괄호 안에 아무 것도 없으므로 func1이라는 함수는 인자가 필요없는 것임. 괄호 안에 인자(변수) 별도로 입력해도 됨\n",
    "    print(\"Hello\", parameter)\n",
    "    \n",
    "#▲함수를 선언한 것임"
   ]
  },
  {
   "cell_type": "markdown",
   "id": "022e4c5a",
   "metadata": {},
   "source": [
    "▼ 처음 함수를 선언해놓으면 그 선언된 함수는 계속적으로 실행가능\n",
    "→ 함수를 사용하면 복잡한 코드를 작성할 필요가 없어진다!"
   ]
  },
  {
   "cell_type": "code",
   "execution_count": 11,
   "id": "a7c39be7",
   "metadata": {},
   "outputs": [
    {
     "name": "stdout",
     "output_type": "stream",
     "text": [
      "Hello python\n"
     ]
    }
   ],
   "source": [
    "func1('python')"
   ]
  },
  {
   "cell_type": "code",
   "execution_count": 19,
   "id": "60cbe864",
   "metadata": {},
   "outputs": [],
   "source": [
    "def func1(parameter1, parameter2): #인자가 2개인 경우\n",
    "    print(\"Hello\", parameter1, parameter2)\n",
    "    print(parameter1)\n",
    "    print(\"Hello\")\n",
    "    print(\"Hello\", parameter2)"
   ]
  },
  {
   "cell_type": "code",
   "execution_count": 20,
   "id": "a7e03525",
   "metadata": {},
   "outputs": [
    {
     "name": "stdout",
     "output_type": "stream",
     "text": [
      "Hello Python Java\n",
      "Python\n",
      "Hello\n",
      "Hello Java\n"
     ]
    }
   ],
   "source": [
    "func1(\"Python\",\"Java\")"
   ]
  },
  {
   "cell_type": "markdown",
   "id": "e63fbe09",
   "metadata": {},
   "source": [
    "#### ※용어\n",
    "\n",
    "* 인풋 (input) = 인자(argument, parameter)"
   ]
  },
  {
   "cell_type": "code",
   "execution_count": 28,
   "id": "52bca52c",
   "metadata": {},
   "outputs": [],
   "source": [
    "def func1(data1, data2):\n",
    "    return data1*(data1 + data2) # return은 함수의 결과값(data1+data2)을 의미함\n",
    "#※ 특정 함수 내의 return 이후의 입력된 코드는 실행되지 않음을 유의할 것"
   ]
  },
  {
   "cell_type": "code",
   "execution_count": 29,
   "id": "0d9011f4",
   "metadata": {},
   "outputs": [
    {
     "name": "stdout",
     "output_type": "stream",
     "text": [
      "35\n"
     ]
    }
   ],
   "source": [
    "y = func1(5,2)\n",
    "print(y)"
   ]
  },
  {
   "cell_type": "code",
   "execution_count": 1,
   "id": "c60e8a82",
   "metadata": {},
   "outputs": [
    {
     "name": "stdout",
     "output_type": "stream",
     "text": [
      "5\n"
     ]
    }
   ],
   "source": [
    "def awe_sum(a,b):\n",
    "    c = 1 # 지역변수(local variable): 함수 안에서 선언된 변수. 함수가 끝나면(return) 지역변수 c는 삭제됨\n",
    "    result = a + b\n",
    "    return result\n",
    "\n",
    "a = 1 # 전역변수(global variable): 함수 밖에서 선언된 변수. 전역 변수는 애초에 함수 밖에 있으므로 삭제되지 않음\n",
    "print(awe_sum(2,3))\n",
    "# awe_sum함수의 변수 a에 들어가는 인풋 a는 전역변수 a와는 다른 것임. 인풋 a자리에 들어가는 2는 함수가 끝나면 삭제되고,\n",
    "# 전역변수 a는 삭제되지 않으므로, 함수가 끝나고 a를 출력하면 전역변수 a값이 도출됨."
   ]
  },
  {
   "cell_type": "code",
   "execution_count": 2,
   "id": "c2e9878d",
   "metadata": {},
   "outputs": [
    {
     "data": {
      "text/plain": [
       "1"
      ]
     },
     "execution_count": 2,
     "metadata": {},
     "output_type": "execute_result"
    }
   ],
   "source": [
    "a"
   ]
  },
  {
   "cell_type": "code",
   "execution_count": 3,
   "id": "09f6e361",
   "metadata": {},
   "outputs": [
    {
     "ename": "NameError",
     "evalue": "name 'c' is not defined",
     "output_type": "error",
     "traceback": [
      "\u001b[1;31m---------------------------------------------------------------------------\u001b[0m",
      "\u001b[1;31mNameError\u001b[0m                                 Traceback (most recent call last)",
      "\u001b[1;32m<ipython-input-3-2b66fd261ee5>\u001b[0m in \u001b[0;36m<module>\u001b[1;34m\u001b[0m\n\u001b[1;32m----> 1\u001b[1;33m \u001b[0mc\u001b[0m\u001b[1;33m\u001b[0m\u001b[1;33m\u001b[0m\u001b[0m\n\u001b[0m",
      "\u001b[1;31mNameError\u001b[0m: name 'c' is not defined"
     ]
    }
   ],
   "source": [
    "c"
   ]
  },
  {
   "cell_type": "code",
   "execution_count": 7,
   "id": "492d015d",
   "metadata": {},
   "outputs": [],
   "source": [
    "# function without input(인자가 없는 함수의 경우)\n",
    "\n",
    "def print_hello():\n",
    "    return \"hello\""
   ]
  },
  {
   "cell_type": "code",
   "execution_count": 8,
   "id": "3a54b0e6",
   "metadata": {},
   "outputs": [
    {
     "name": "stdout",
     "output_type": "stream",
     "text": [
      "hello\n"
     ]
    }
   ],
   "source": [
    "result_hello = print_hello()\n",
    "print(result_hello)"
   ]
  },
  {
   "cell_type": "code",
   "execution_count": 15,
   "id": "d562abdc",
   "metadata": {},
   "outputs": [
    {
     "name": "stdout",
     "output_type": "stream",
     "text": [
      "This is function without return for 1 times.\n"
     ]
    }
   ],
   "source": [
    "# function without return(return이 없는 함수의 경우)\n",
    "\n",
    "def func_wo_return(a):\n",
    "    print(\"This is function without return for\" , str(a) , \"times.\") # 문자열끼리는 '+'로 연결할 수 있으나, 문자열과 숫자(a)는 '+'로 연결 불가\n",
    "    \n",
    "func_wo_return(1)"
   ]
  },
  {
   "cell_type": "code",
   "execution_count": 17,
   "id": "62992cca",
   "metadata": {},
   "outputs": [],
   "source": [
    "# function with multiple return\n",
    "\n",
    "def mul_return(a):\n",
    "    b = a + 1\n",
    "    return a,b\n",
    "# 일반적으로 프로그래밍언어에서는 return이 여러개일 수 없으나, 파이썬은 가능"
   ]
  },
  {
   "cell_type": "markdown",
   "id": "9db786b0",
   "metadata": {},
   "source": [
    "▼ 튜플(tuple)"
   ]
  },
  {
   "cell_type": "code",
   "execution_count": 19,
   "id": "7c166c12",
   "metadata": {},
   "outputs": [
    {
     "data": {
      "text/plain": [
       "(1, 2)"
      ]
     },
     "execution_count": 19,
     "metadata": {},
     "output_type": "execute_result"
    }
   ],
   "source": [
    "mul_return(1) #튜플(데이터 구조)의 형태로 여러개의 return을 전달할 수 있는 파이썬!"
   ]
  },
  {
   "cell_type": "code",
   "execution_count": 20,
   "id": "4143881e",
   "metadata": {},
   "outputs": [],
   "source": [
    "# return은 특정한 결과값을 제공하는 것 외에도, 단순히 함수를 종료하기 위해서도 쓰일 수 있다.\n",
    "\n",
    "def id_check(id):\n",
    "    if id == 'admin':\n",
    "        print(\"invalid id: admin\")\n",
    "        return\n",
    "    print('valid id: ', id) # id 가 'admin'이 아닌 경우"
   ]
  },
  {
   "cell_type": "code",
   "execution_count": 23,
   "id": "b57fa6f7",
   "metadata": {},
   "outputs": [
    {
     "name": "stdout",
     "output_type": "stream",
     "text": [
      "valid id:  adm\n"
     ]
    }
   ],
   "source": [
    "id_check('adm')"
   ]
  },
  {
   "cell_type": "code",
   "execution_count": 24,
   "id": "1a5aa3d9",
   "metadata": {},
   "outputs": [
    {
     "name": "stdout",
     "output_type": "stream",
     "text": [
      "invalid id: admin\n"
     ]
    }
   ],
   "source": [
    "id_check('admin')"
   ]
  }
 ],
 "metadata": {
  "kernelspec": {
   "display_name": "Python 3",
   "language": "python",
   "name": "python3"
  },
  "language_info": {
   "codemirror_mode": {
    "name": "ipython",
    "version": 3
   },
   "file_extension": ".py",
   "mimetype": "text/x-python",
   "name": "python",
   "nbconvert_exporter": "python",
   "pygments_lexer": "ipython3",
   "version": "3.8.8"
  }
 },
 "nbformat": 4,
 "nbformat_minor": 5
}
