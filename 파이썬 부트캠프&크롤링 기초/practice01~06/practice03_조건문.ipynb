{
 "cells": [
  {
   "cell_type": "code",
   "execution_count": 1,
   "id": "007e71ab",
   "metadata": {},
   "outputs": [
    {
     "name": "stdout",
     "output_type": "stream",
     "text": [
      "나이는?20\n",
      "20\n",
      "당신은 성인입니다.\n"
     ]
    }
   ],
   "source": [
    "age = input(\"나이는?\")\n",
    "age_digit = int(age)\n",
    "print(age_digit)\n",
    "if age_digit >= 19: # ':(콜론)은 if문이 끝났음을 표시해주기 위해 사용함\n",
    "    print(\"당신은 성인입니다.\")"
   ]
  },
  {
   "cell_type": "code",
   "execution_count": 5,
   "id": "a6600471",
   "metadata": {},
   "outputs": [
    {
     "name": "stdout",
     "output_type": "stream",
     "text": [
      "수빈의 나이는?20\n",
      "혜빈의 나이는?20\n",
      "여러분은 모두 성인입니다\n"
     ]
    }
   ],
   "source": [
    "age1 = input(\"수빈의 나이는?\")\n",
    "age_digit1 = int(age1)\n",
    "\n",
    "age2 = input(\"혜빈의 나이는?\")\n",
    "age_digit2 = int(age2)\n",
    "\n",
    "if age_digit1 >= 19 and age_digit2 >=19:\n",
    "    print (\"여러분은 모두 성인입니다\")\n",
    "# if A and B구문(and 조건)은 A와 B의 교집합일 때만 결괏값 산출"
   ]
  },
  {
   "cell_type": "code",
   "execution_count": 6,
   "id": "ab32c4b2",
   "metadata": {},
   "outputs": [
    {
     "name": "stdout",
     "output_type": "stream",
     "text": [
      "수빈의 나이는?21\n",
      "혜빈의 나이는?18\n",
      "입장가능\n"
     ]
    }
   ],
   "source": [
    "age1 = input(\"수빈의 나이는?\")\n",
    "age_digit1 = int(age1)\n",
    "\n",
    "age2 = input(\"혜빈의 나이는?\")\n",
    "age_digit2 = int(age2)\n",
    "\n",
    "if age_digit1 >= 19 or age_digit2 >=19:\n",
    "    print (\"입장가능\")\n",
    "\n",
    "# if A or B 구문(if 조건)은 A와 B의 합집합 내에 있으면 결괏값 산출"
   ]
  },
  {
   "cell_type": "code",
   "execution_count": 7,
   "id": "e4a69086",
   "metadata": {},
   "outputs": [
    {
     "name": "stdout",
     "output_type": "stream",
     "text": [
      "수빈의 나이는?18\n",
      "혜빈의 나이는?20\n",
      "입장불가\n"
     ]
    }
   ],
   "source": [
    "age1 = input(\"수빈의 나이는?\")\n",
    "age_digit1 = int(age1)\n",
    "\n",
    "age2 = input(\"혜빈의 나이는?\")\n",
    "age_digit2 = int(age2)\n",
    "\n",
    "if not age_digit1 >= 19:\n",
    "    print (\"입장불가\")"
   ]
  },
  {
   "cell_type": "code",
   "execution_count": 14,
   "id": "9677f50a",
   "metadata": {},
   "outputs": [
    {
     "name": "stdout",
     "output_type": "stream",
     "text": [
      "보유 잔액은?120000\n",
      "인출 가능\n"
     ]
    }
   ],
   "source": [
    "cash = int(input(\"보유 잔액은?\"))\n",
    "if cash > 100000:\n",
    "   print (\"인출 가능\")"
   ]
  },
  {
   "cell_type": "markdown",
   "id": "2438b0dd",
   "metadata": {},
   "source": [
    "▼ if와 else"
   ]
  },
  {
   "cell_type": "code",
   "execution_count": 4,
   "id": "554270e7",
   "metadata": {},
   "outputs": [
    {
     "name": "stdout",
     "output_type": "stream",
     "text": [
      "나이는?18\n",
      "당신은 청소년입니다.\n",
      "구매불가\n"
     ]
    }
   ],
   "source": [
    "age = int(input('나이는?'))\n",
    "if age>= 19:\n",
    "    print(\"당신은 성인입니다.\")\n",
    "    print(\"구매가능\")\n",
    "else:\n",
    "    print(\"당신은 청소년입니다.\")\n",
    "    print(\"구매불가\")"
   ]
  },
  {
   "cell_type": "code",
   "execution_count": 1,
   "id": "16452c92",
   "metadata": {},
   "outputs": [
    {
     "name": "stdout",
     "output_type": "stream",
     "text": [
      "안녕하세요. 나이를 입력해주세요6\n",
      "나이: 6\n",
      "당신은 유아입니다\n",
      "구매가 불가능합니다\n"
     ]
    }
   ],
   "source": [
    "age = int(input('안녕하세요. 나이를 입력해주세요'))\n",
    "print(\"나이:\", age)\n",
    "if age >= 19:\n",
    "    print('당신은 성인입니다')\n",
    "    print('구매가 가능합니다')\n",
    "elif age >= 13 and age < 19: #elif는 조건이 여러 개일때 사용할 것\n",
    "    print('당신은 청소년입니다')\n",
    "    print('구매가 불가능합니다')\n",
    "else: #else 대신 elif 써도됨\n",
    "    print('당신은 유아입니다')\n",
    "    print('구매가 불가능합니다')\n",
    "\n",
    "#else는 항상 마지막에 써야 하며, else는 아예 안쓰고 elif만 사용하는 것도 가능"
   ]
  },
  {
   "cell_type": "markdown",
   "id": "75c4e04d",
   "metadata": {},
   "source": [
    "▼ 조건문 안에 조건문"
   ]
  },
  {
   "cell_type": "code",
   "execution_count": 3,
   "id": "eb37cb81",
   "metadata": {},
   "outputs": [
    {
     "name": "stdout",
     "output_type": "stream",
     "text": [
      "현금은?35000\n",
      "just stay at home\n"
     ]
    }
   ],
   "source": [
    "cash = int(input('현금은?'))\n",
    "if cash > 100000:\n",
    "    print ('go shopping')\n",
    "else:\n",
    "    if cash>50000:\n",
    "        print('go to have a dinner outside')\n",
    "    else:\n",
    "        print(\"just stay at home\")"
   ]
  },
  {
   "cell_type": "code",
   "execution_count": 5,
   "id": "0080e381",
   "metadata": {},
   "outputs": [
    {
     "name": "stdout",
     "output_type": "stream",
     "text": [
      "현금은?58000\n",
      "떡볶이\n"
     ]
    }
   ],
   "source": [
    "cash = int(input('현금은?'))\n",
    "if cash > 100000:\n",
    "    print ('쇼핑')\n",
    "else:\n",
    "    if cash>50000:\n",
    "        if cash > 70000:\n",
    "            print ('레스토랑')\n",
    "        elif cash > 60000:\n",
    "            print ('카페')\n",
    "        else:\n",
    "            print ('떡볶이')\n",
    "    else:\n",
    "        print ('집')\n",
    "        "
   ]
  },
  {
   "cell_type": "code",
   "execution_count": null,
   "id": "dfd721b5",
   "metadata": {},
   "outputs": [],
   "source": []
  }
 ],
 "metadata": {
  "kernelspec": {
   "display_name": "Python 3",
   "language": "python",
   "name": "python3"
  },
  "language_info": {
   "codemirror_mode": {
    "name": "ipython",
    "version": 3
   },
   "file_extension": ".py",
   "mimetype": "text/x-python",
   "name": "python",
   "nbconvert_exporter": "python",
   "pygments_lexer": "ipython3",
   "version": "3.8.8"
  }
 },
 "nbformat": 4,
 "nbformat_minor": 5
}
