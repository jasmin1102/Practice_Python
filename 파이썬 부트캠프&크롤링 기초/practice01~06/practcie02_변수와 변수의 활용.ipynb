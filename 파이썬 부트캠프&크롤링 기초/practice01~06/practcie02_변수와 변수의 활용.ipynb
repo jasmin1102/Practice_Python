{
 "cells": [
  {
   "cell_type": "markdown",
   "id": "7f7a6461",
   "metadata": {},
   "source": [
    "## 변수와 변수의 활용"
   ]
  },
  {
   "cell_type": "code",
   "execution_count": 27,
   "id": "60ba5bd5",
   "metadata": {},
   "outputs": [
    {
     "name": "stdout",
     "output_type": "stream",
     "text": [
      "1 Soobin 21 2 Kyunghee University Economics\n",
      "22\n"
     ]
    }
   ],
   "source": [
    "digit1 = 1\n",
    "name = \"Soobin\"\n",
    "age = 21\n",
    "grade = 2\n",
    "university = \"Kyunghee University\"\n",
    "major = \"Economics\"\n",
    "\n",
    "print (digit1, name, age, grade, university, major)\n",
    "print (digit1 + age)"
   ]
  },
  {
   "cell_type": "code",
   "execution_count": null,
   "id": "99df0e23",
   "metadata": {},
   "outputs": [],
   "source": [
    "num = False "
   ]
  },
  {
   "cell_type": "code",
   "execution_count": 32,
   "id": "1fdbc5dd",
   "metadata": {},
   "outputs": [
    {
     "name": "stdout",
     "output_type": "stream",
     "text": [
      "True\n",
      "False\n",
      "True\n",
      "True\n",
      "False\n",
      "True\n"
     ]
    }
   ],
   "source": [
    "print (3 < 7)\n",
    "print (10 < 3)\n",
    "print (3 >= 3)\n",
    "print (3 <= 10)\n",
    "print (34 == 100)\n",
    "print (34 != 100)"
   ]
  },
  {
   "cell_type": "markdown",
   "id": "c7805178",
   "metadata": {},
   "source": [
    "- 프로그래밍에서 '='은 오른쪽 데이터를 왼쪽 변수에 넣어주기 위해 쓰는 것임!\n",
    "- 두 값/데이터가 갖냐고 물으려면 '=='를 사용할 것\n",
    "- 두 값/데이터가 다르냐고 물으려면 '=!'('='이거 먼저!)를 사용할 것"
   ]
  },
  {
   "cell_type": "markdown",
   "id": "3f740cfd",
   "metadata": {},
   "source": [
    "- 변수 이름: 이름 맨앞에는 숫자 사용 불가, 특수문자 사용no, 언더바는 사용 가능, 영어문자로 시작!\n",
    "* 변수 이름에 두 단어 이상을 연속으로 사용할 경우 각 단어 사이에 언더바 넣는 것을 권장"
   ]
  },
  {
   "cell_type": "code",
   "execution_count": 2,
   "id": "aebf0cf6",
   "metadata": {},
   "outputs": [
    {
     "name": "stdout",
     "output_type": "stream",
     "text": [
      "지름은? 20\n",
      "둘레는? 62.800000000000004\n",
      "넓이는? 314.0\n"
     ]
    }
   ],
   "source": [
    "radius = 10\n",
    "print (\"지름은?\", radius * 2)\n",
    "pi = 3.14 #파이썬의 경우 변수 값을 중간에 지정해줘도 됨(그러나 맨 위에 쓰는 것이 일반적)\n",
    "print (\"둘레는?\", pi * 2 * radius )\n",
    "print (\"넓이는?\", pi * (radius ** 2))"
   ]
  },
  {
   "cell_type": "code",
   "execution_count": 38,
   "id": "d4155943",
   "metadata": {
    "scrolled": true
   },
   "outputs": [
    {
     "name": "stdout",
     "output_type": "stream",
     "text": [
      "Kyunghee Univ. Economoics Sophomore 21\n",
      "166 50\n"
     ]
    }
   ],
   "source": [
    "name = \"SOO BIN CHO\"\n",
    "birth = 20011102\n",
    "age = 21\n",
    "gender = 'female'\n",
    "grade = \"Sophomore\"\n",
    "Univ = \"Kyunghee Univ.\"\n",
    "major = \"Economoics\"\n",
    "height = 166\n",
    "weight = 50\n",
    "marriage = False\n",
    "glasses = False\n",
    "\n",
    "print (Univ, major, grade, age)\n",
    "print (height, weight)"
   ]
  }
 ],
 "metadata": {
  "kernelspec": {
   "display_name": "Python 3",
   "language": "python",
   "name": "python3"
  },
  "language_info": {
   "codemirror_mode": {
    "name": "ipython",
    "version": 3
   },
   "file_extension": ".py",
   "mimetype": "text/x-python",
   "name": "python",
   "nbconvert_exporter": "python",
   "pygments_lexer": "ipython3",
   "version": "3.8.8"
  }
 },
 "nbformat": 4,
 "nbformat_minor": 5
}
