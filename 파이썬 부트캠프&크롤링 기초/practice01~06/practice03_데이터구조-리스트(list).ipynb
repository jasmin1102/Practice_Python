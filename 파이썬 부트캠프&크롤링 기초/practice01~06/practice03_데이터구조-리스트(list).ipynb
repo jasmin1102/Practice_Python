{
 "cells": [
  {
   "cell_type": "markdown",
   "id": "2d5f7801",
   "metadata": {},
   "source": [
    "## 리스트 변수\n",
    "\n",
    "1. 리스트 선언\n",
    "  - 리스트 변수 = []\n",
    "  - 리스트 변수 = list()\n",
    "  - 리스트변수 = [데이터1, 데이터2, ...]\n",
    "  \n",
    "  \n",
    "2. 리스트 추가\n",
    "  - 리스트변수.append(데이터)\n",
    "  - 리스트변수.insert(인덱스 번호, 데이터)\n",
    "\n",
    "\n",
    "3. 리스트 삭제\n",
    "  - 리스트변수.remove(데이터)\n",
    "  - del.리스트변수[인덱스번호]\n",
    "  \n",
    "  \n",
    "4. 리스트 데이터 수정\n",
    "  - 리스트변수[인덱스번호] = 수정할 데이터\n"
   ]
  },
  {
   "cell_type": "code",
   "execution_count": 66,
   "id": "f46fd5ce",
   "metadata": {},
   "outputs": [
    {
     "name": "stdout",
     "output_type": "stream",
     "text": [
      "['java', 'c', 'c++']\n"
     ]
    }
   ],
   "source": [
    "lang = [\"java\", \"c\", \"c++\"]\n",
    "print (lang)"
   ]
  },
  {
   "cell_type": "code",
   "execution_count": 67,
   "id": "c90db5af",
   "metadata": {},
   "outputs": [
    {
     "name": "stdout",
     "output_type": "stream",
     "text": [
      "['java', 'c', 'c++', 'golang']\n"
     ]
    }
   ],
   "source": [
    "lang.append(\"golang\")\n",
    "print (lang)"
   ]
  },
  {
   "cell_type": "code",
   "execution_count": 69,
   "id": "149ae91d",
   "metadata": {},
   "outputs": [
    {
     "name": "stdout",
     "output_type": "stream",
     "text": [
      "['java', 'c', 'c++', 'django', 'golang']\n"
     ]
    }
   ],
   "source": [
    "lang.insert(3, \"django\")\n",
    "print (lang)"
   ]
  },
  {
   "cell_type": "code",
   "execution_count": 70,
   "id": "64646daf",
   "metadata": {},
   "outputs": [],
   "source": [
    "del lang[4]"
   ]
  },
  {
   "cell_type": "code",
   "execution_count": 71,
   "id": "105b91e4",
   "metadata": {},
   "outputs": [
    {
     "data": {
      "text/plain": [
       "['java', 'c', 'c++', 'django']"
      ]
     },
     "execution_count": 71,
     "metadata": {},
     "output_type": "execute_result"
    }
   ],
   "source": [
    "lang"
   ]
  },
  {
   "cell_type": "code",
   "execution_count": 74,
   "id": "8a9c041d",
   "metadata": {},
   "outputs": [
    {
     "data": {
      "text/plain": [
       "['c++', 'c', 'java', 'django']"
      ]
     },
     "execution_count": 74,
     "metadata": {},
     "output_type": "execute_result"
    }
   ],
   "source": [
    "lang[0] = 'c++'\n",
    "lang"
   ]
  },
  {
   "cell_type": "code",
   "execution_count": 4,
   "id": "0d3cfcb0",
   "metadata": {},
   "outputs": [],
   "source": [
    "location = [\"서울시\", \"경기도\", \"인천시\"]"
   ]
  },
  {
   "cell_type": "code",
   "execution_count": 9,
   "id": "af5b2e5f",
   "metadata": {},
   "outputs": [
    {
     "name": "stdout",
     "output_type": "stream",
     "text": [
      "['서울시', '경기도', '인천시']\n",
      "경기도\n"
     ]
    }
   ],
   "source": [
    "print (location)\n",
    "print (location[1])"
   ]
  },
  {
   "cell_type": "code",
   "execution_count": 11,
   "id": "1915a944",
   "metadata": {},
   "outputs": [],
   "source": [
    "location.append('부산시') #한번에 여러개 추가 불가능! 각각 따로따로 append 달아줄 것"
   ]
  },
  {
   "cell_type": "code",
   "execution_count": 13,
   "id": "eb8d23ef",
   "metadata": {},
   "outputs": [
    {
     "data": {
      "text/plain": [
       "['서울시', '경기도', '인천시', '부산시']"
      ]
     },
     "execution_count": 13,
     "metadata": {},
     "output_type": "execute_result"
    }
   ],
   "source": [
    "location"
   ]
  },
  {
   "cell_type": "code",
   "execution_count": 14,
   "id": "fd8e4bdb",
   "metadata": {},
   "outputs": [],
   "source": [
    "location.append('대전시')"
   ]
  },
  {
   "cell_type": "code",
   "execution_count": 15,
   "id": "eb4c72c5",
   "metadata": {},
   "outputs": [
    {
     "data": {
      "text/plain": [
       "['서울시', '경기도', '인천시', '부산시', '대전시']"
      ]
     },
     "execution_count": 15,
     "metadata": {},
     "output_type": "execute_result"
    }
   ],
   "source": [
    "location"
   ]
  },
  {
   "cell_type": "code",
   "execution_count": 16,
   "id": "9019747d",
   "metadata": {},
   "outputs": [
    {
     "data": {
      "text/plain": [
       "'대전시'"
      ]
     },
     "execution_count": 16,
     "metadata": {},
     "output_type": "execute_result"
    }
   ],
   "source": [
    "location[-1]"
   ]
  },
  {
   "cell_type": "code",
   "execution_count": 4,
   "id": "6476b5f4",
   "metadata": {},
   "outputs": [
    {
     "name": "stdout",
     "output_type": "stream",
     "text": [
      "['CHANEL', 'GUCCI', 'PRADA']\n"
     ]
    }
   ],
   "source": [
    "fashion = ['CHANEL','GUCCI','PRADA']\n",
    "print(fashion)"
   ]
  },
  {
   "cell_type": "code",
   "execution_count": 8,
   "id": "fd84c95d",
   "metadata": {},
   "outputs": [
    {
     "data": {
      "text/plain": [
       "['CHANEL', 'GUCCI', 'BALENCIAGA', 'BALENCIAGA', 'BALENCIAGA', 'PRADA']"
      ]
     },
     "execution_count": 8,
     "metadata": {},
     "output_type": "execute_result"
    }
   ],
   "source": [
    "fashion.insert(2, 'BALENCIAGA')\n",
    "fashion"
   ]
  },
  {
   "cell_type": "code",
   "execution_count": 11,
   "id": "963a115c",
   "metadata": {},
   "outputs": [],
   "source": [
    "del fashion[2]\n",
    "del fashion[3]\n",
    "p"
   ]
  }
 ],
 "metadata": {
  "kernelspec": {
   "display_name": "Python 3",
   "language": "python",
   "name": "python3"
  },
  "language_info": {
   "codemirror_mode": {
    "name": "ipython",
    "version": 3
   },
   "file_extension": ".py",
   "mimetype": "text/x-python",
   "name": "python",
   "nbconvert_exporter": "python",
   "pygments_lexer": "ipython3",
   "version": "3.8.8"
  }
 },
 "nbformat": 4,
 "nbformat_minor": 5
}
