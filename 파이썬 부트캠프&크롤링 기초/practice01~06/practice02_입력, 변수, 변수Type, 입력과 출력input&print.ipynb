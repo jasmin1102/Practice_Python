{
 "cells": [
  {
   "cell_type": "markdown",
   "id": "dadba638",
   "metadata": {},
   "source": [
    "## 입력 함수 input"
   ]
  },
  {
   "cell_type": "markdown",
   "id": "e7fb2dda",
   "metadata": {},
   "source": [
    "- input 함수는 입력받은 값을 변수에 문자열(따옴표 붙여짐)로 저장해줌\n",
    "→ input 함수는 화면에서 무언가를 입력받게 해줌"
   ]
  },
  {
   "cell_type": "code",
   "execution_count": 1,
   "id": "8bfbf087",
   "metadata": {
    "scrolled": true
   },
   "outputs": [
    {
     "name": "stdout",
     "output_type": "stream",
     "text": [
      "Jasmin\n"
     ]
    }
   ],
   "source": [
    "name = input()"
   ]
  },
  {
   "cell_type": "code",
   "execution_count": 4,
   "id": "ba22fc29",
   "metadata": {},
   "outputs": [
    {
     "name": "stdout",
     "output_type": "stream",
     "text": [
      "What is your name?Jasmin\n"
     ]
    }
   ],
   "source": [
    "name = input(\"What is your name?\")"
   ]
  },
  {
   "cell_type": "code",
   "execution_count": 6,
   "id": "84c93af7",
   "metadata": {},
   "outputs": [
    {
     "name": "stdout",
     "output_type": "stream",
     "text": [
      "Jasmin\n"
     ]
    }
   ],
   "source": [
    "name #print(name)으로 써도됨! input함수의 경우 주피터 노트북에서 print사용하지 않아도 변수명만 입력해서 변수에 저장된 값 불러내기\n",
    "#가능"
   ]
  },
  {
   "cell_type": "code",
   "execution_count": 8,
   "id": "8815fe13",
   "metadata": {},
   "outputs": [
    {
     "name": "stdout",
     "output_type": "stream",
     "text": [
      "Jasmin1\n",
      "Jasmin2\n"
     ]
    }
   ],
   "source": [
    "name1 = 'Jasmin1'\n",
    "name2 = 'Jasmin2'\n",
    "print (name1)\n",
    "print (name2)\n",
    "#단, 변수가 여러개일 경우 모든 변수명 앞에 print붙여줘야 모든 변수에 저장된 값을 불러올 수 있음!!"
   ]
  },
  {
   "cell_type": "code",
   "execution_count": 9,
   "id": "0bd7896c",
   "metadata": {},
   "outputs": [
    {
     "name": "stdout",
     "output_type": "stream",
     "text": [
      "What is your name?Jasmin\n",
      "Hi:) Jasmin\n"
     ]
    }
   ],
   "source": [
    "name = input(\"What is your name?\")\n",
    "print (\"Hi:)\", name)"
   ]
  },
  {
   "cell_type": "code",
   "execution_count": 10,
   "id": "348aba99",
   "metadata": {},
   "outputs": [
    {
     "name": "stdout",
     "output_type": "stream",
     "text": [
      "1\n"
     ]
    }
   ],
   "source": [
    "digit = input()"
   ]
  },
  {
   "cell_type": "markdown",
   "id": "fe44f958",
   "metadata": {},
   "source": [
    "digit에 입력된 숫자 1 -> input 함수는 입력된 값을 문자열로 변환시키기에 Out에서의문자 그 자체로서의 '1'이 됨"
   ]
  },
  {
   "cell_type": "code",
   "execution_count": 11,
   "id": "450dfb7a",
   "metadata": {},
   "outputs": [
    {
     "data": {
      "text/plain": [
       "'1'"
      ]
     },
     "execution_count": 11,
     "metadata": {},
     "output_type": "execute_result"
    }
   ],
   "source": [
    "digit"
   ]
  },
  {
   "cell_type": "markdown",
   "id": "23219f88",
   "metadata": {},
   "source": [
    "digit1 = input()\n",
    "digit2 = input()\n",
    "\n",
    "print (digit1 * digit2)\n",
    "\n",
    "▲이렇게는 할 수 없음. why? input함수는 데이터값을 문자열로만 변환시키기 때문에, 애초에 문자열*문자열(문자열끼리의 곱)이 불가능"
   ]
  },
  {
   "cell_type": "markdown",
   "id": "b1d3ff88",
   "metadata": {},
   "source": [
    "#####  ▼변수 Type; 정수 - int / 부동소숫점 - float / 문자열 - str / Boolean - bool▼"
   ]
  },
  {
   "cell_type": "code",
   "execution_count": 16,
   "id": "ca822a7e",
   "metadata": {},
   "outputs": [
    {
     "data": {
      "text/plain": [
       "3.0"
      ]
     },
     "execution_count": 16,
     "metadata": {},
     "output_type": "execute_result"
    }
   ],
   "source": [
    "float(3) #정수 3을 부동소숫점이 있는 수로 바꾸기"
   ]
  },
  {
   "cell_type": "code",
   "execution_count": 17,
   "id": "13483c47",
   "metadata": {},
   "outputs": [
    {
     "data": {
      "text/plain": [
       "3"
      ]
     },
     "execution_count": 17,
     "metadata": {},
     "output_type": "execute_result"
    }
   ],
   "source": [
    "int(3.6) #부동소숫점을 정수로 바꾸기"
   ]
  },
  {
   "cell_type": "code",
   "execution_count": 18,
   "id": "9073b226",
   "metadata": {},
   "outputs": [
    {
     "data": {
      "text/plain": [
       "'1'"
      ]
     },
     "execution_count": 18,
     "metadata": {},
     "output_type": "execute_result"
    }
   ],
   "source": [
    "str(1) #정수를 문자열로 바꾸기"
   ]
  },
  {
   "cell_type": "code",
   "execution_count": 21,
   "id": "f3ec18a0",
   "metadata": {},
   "outputs": [
    {
     "name": "stdout",
     "output_type": "stream",
     "text": [
      "123\n",
      "<class 'int'>\n"
     ]
    }
   ],
   "source": [
    "digit_str = \"123\" #문자열 '123'\n",
    "digit_int = int(digit_str) #문자열 '123'을 정수로 바꿔주는 작업\n",
    "print (digit_int)\n",
    "print (type(digit_int)) # <class 'int'>의 의미: digit_int의 변수타입(type)이 정수임을 의미"
   ]
  },
  {
   "cell_type": "code",
   "execution_count": 22,
   "id": "8f330a53",
   "metadata": {},
   "outputs": [
    {
     "name": "stdout",
     "output_type": "stream",
     "text": [
      "How old are you?21\n"
     ]
    },
    {
     "data": {
      "text/plain": [
       "21"
      ]
     },
     "execution_count": 22,
     "metadata": {},
     "output_type": "execute_result"
    }
   ],
   "source": [
    "int(input(\"How old are you?\")) #input()의 결과는 문자열. 이 문자열을 int()에 넣어주면 그 문자열이 정수(숫자)로 바뀜"
   ]
  },
  {
   "cell_type": "code",
   "execution_count": 23,
   "id": "cb9ecb88",
   "metadata": {},
   "outputs": [
    {
     "name": "stdout",
     "output_type": "stream",
     "text": [
      "10\n",
      "20\n",
      "200\n"
     ]
    }
   ],
   "source": [
    "digit1 = int( input() )\n",
    "digit2 = int( input() )\n",
    "print(digit1 * digit2)"
   ]
  },
  {
   "cell_type": "code",
   "execution_count": null,
   "id": "bc160cea",
   "metadata": {},
   "outputs": [],
   "source": []
  }
 ],
 "metadata": {
  "kernelspec": {
   "display_name": "Python 3",
   "language": "python",
   "name": "python3"
  },
  "language_info": {
   "codemirror_mode": {
    "name": "ipython",
    "version": 3
   },
   "file_extension": ".py",
   "mimetype": "text/x-python",
   "name": "python",
   "nbconvert_exporter": "python",
   "pygments_lexer": "ipython3",
   "version": "3.8.8"
  }
 },
 "nbformat": 4,
 "nbformat_minor": 5
}
