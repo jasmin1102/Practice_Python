{
 "cells": [
  {
   "cell_type": "code",
   "execution_count": 7,
   "id": "fd7d9596",
   "metadata": {},
   "outputs": [
    {
     "name": "stdout",
     "output_type": "stream",
     "text": [
      "Hello Jasmin :)\n"
     ]
    }
   ],
   "source": [
    "print (\"Hello Jasmin :)\")"
   ]
  },
  {
   "cell_type": "markdown",
   "id": "1ab30deb",
   "metadata": {},
   "source": [
    "##### print (2**4) > 2의 4승"
   ]
  },
  {
   "cell_type": "code",
   "execution_count": 26,
   "id": "4845b131",
   "metadata": {},
   "outputs": [
    {
     "name": "stdout",
     "output_type": "stream",
     "text": [
      "16\n"
     ]
    }
   ],
   "source": [
    "print (2**4)"
   ]
  },
  {
   "cell_type": "markdown",
   "id": "4345a93e",
   "metadata": {},
   "source": [
    "##### print (4//2)  > 4를 2로 나눈 후의 몫"
   ]
  },
  {
   "cell_type": "code",
   "execution_count": 24,
   "id": "65caf40d",
   "metadata": {},
   "outputs": [
    {
     "name": "stdout",
     "output_type": "stream",
     "text": [
      "2\n"
     ]
    }
   ],
   "source": [
    "print (4//2)"
   ]
  },
  {
   "cell_type": "markdown",
   "id": "fb0fba50",
   "metadata": {},
   "source": [
    "##### print (5%3) > 5를 3으로 나눈 후의 나머지"
   ]
  },
  {
   "cell_type": "code",
   "execution_count": 25,
   "id": "b7b3b453",
   "metadata": {},
   "outputs": [
    {
     "name": "stdout",
     "output_type": "stream",
     "text": [
      "2\n"
     ]
    }
   ],
   "source": [
    "print (5 % 3)"
   ]
  }
 ],
 "metadata": {
  "kernelspec": {
   "display_name": "Python 3",
   "language": "python",
   "name": "python3"
  },
  "language_info": {
   "codemirror_mode": {
    "name": "ipython",
    "version": 3
   },
   "file_extension": ".py",
   "mimetype": "text/x-python",
   "name": "python",
   "nbconvert_exporter": "python",
   "pygments_lexer": "ipython3",
   "version": "3.8.8"
  }
 },
 "nbformat": 4,
 "nbformat_minor": 5
}
