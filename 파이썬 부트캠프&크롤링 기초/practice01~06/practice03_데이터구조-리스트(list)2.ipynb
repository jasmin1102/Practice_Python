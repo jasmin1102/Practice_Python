{
 "cells": [
  {
   "cell_type": "markdown",
   "id": "b6dad6f7",
   "metadata": {},
   "source": [
    "- 리스트 데이터 정렬하기"
   ]
  },
  {
   "cell_type": "code",
   "execution_count": 1,
   "id": "8ad35b1c",
   "metadata": {},
   "outputs": [],
   "source": [
    "digit_set = [1, 5, 3, 2,4]"
   ]
  },
  {
   "cell_type": "code",
   "execution_count": 2,
   "id": "f9200a5c",
   "metadata": {},
   "outputs": [],
   "source": [
    "digit_set.sort() #숫자 순서대로 배열하기"
   ]
  },
  {
   "cell_type": "code",
   "execution_count": 3,
   "id": "6accef78",
   "metadata": {},
   "outputs": [
    {
     "data": {
      "text/plain": [
       "[1, 2, 3, 4, 5]"
      ]
     },
     "execution_count": 3,
     "metadata": {},
     "output_type": "execute_result"
    }
   ],
   "source": [
    "digit_set"
   ]
  },
  {
   "cell_type": "code",
   "execution_count": 5,
   "id": "ad5f0612",
   "metadata": {},
   "outputs": [],
   "source": [
    "digit_set.reverse() #숫자 역순으로 배열하기"
   ]
  },
  {
   "cell_type": "code",
   "execution_count": 6,
   "id": "666f7e7d",
   "metadata": {},
   "outputs": [
    {
     "data": {
      "text/plain": [
       "[5, 4, 3, 2, 1]"
      ]
     },
     "execution_count": 6,
     "metadata": {},
     "output_type": "execute_result"
    }
   ],
   "source": [
    "digit_set"
   ]
  },
  {
   "cell_type": "markdown",
   "id": "e48eb34e",
   "metadata": {},
   "source": [
    "- 문자열 특수 함수와 리스트"
   ]
  },
  {
   "cell_type": "code",
   "execution_count": 10,
   "id": "96904de2",
   "metadata": {},
   "outputs": [],
   "source": [
    "python_is_easy = \"python is easy\"\n",
    "string_list = python_is_easy.split() #문자열.split → 위 문자열을 스페이스 단위로 떼어내서 리스트 형태로 분리해 나타내줌"
   ]
  },
  {
   "cell_type": "code",
   "execution_count": 11,
   "id": "75c09e00",
   "metadata": {},
   "outputs": [
    {
     "name": "stdout",
     "output_type": "stream",
     "text": [
      "['python', 'is', 'easy']\n"
     ]
    }
   ],
   "source": [
    "print (string_list)"
   ]
  },
  {
   "cell_type": "code",
   "execution_count": 12,
   "id": "5ea175cd",
   "metadata": {},
   "outputs": [
    {
     "data": {
      "text/plain": [
       "'python is easy'"
      ]
     },
     "execution_count": 12,
     "metadata": {},
     "output_type": "execute_result"
    }
   ],
   "source": [
    "python_is_easy \n",
    "# '.sort()'나 '.reverse()' 함수를 사용할 경우 본래의 데이터 배열이 바뀌면서 변수의 내용이 달라짐.\n",
    "# 그러나 '.split'함수의 경우는 그렇지 X ▼"
   ]
  },
  {
   "cell_type": "code",
   "execution_count": 13,
   "id": "db8f14c5",
   "metadata": {},
   "outputs": [],
   "source": [
    "digit_set_new = [3, 9, 6]"
   ]
  },
  {
   "cell_type": "code",
   "execution_count": 21,
   "id": "b2af9bd8",
   "metadata": {},
   "outputs": [],
   "source": [
    "digit_set_new.reverse()"
   ]
  },
  {
   "cell_type": "code",
   "execution_count": 22,
   "id": "5bc9a6df",
   "metadata": {},
   "outputs": [
    {
     "name": "stdout",
     "output_type": "stream",
     "text": [
      "[6, 9, 3]\n"
     ]
    }
   ],
   "source": [
    "print(digit_set_new)"
   ]
  },
  {
   "cell_type": "code",
   "execution_count": 24,
   "id": "69c669d4",
   "metadata": {},
   "outputs": [],
   "source": [
    "digit_set_new.sort()"
   ]
  },
  {
   "cell_type": "code",
   "execution_count": 25,
   "id": "46c42628",
   "metadata": {},
   "outputs": [
    {
     "data": {
      "text/plain": [
       "[3, 6, 9]"
      ]
     },
     "execution_count": 25,
     "metadata": {},
     "output_type": "execute_result"
    }
   ],
   "source": [
    "digit_set_new"
   ]
  },
  {
   "cell_type": "code",
   "execution_count": 28,
   "id": "42ccf551",
   "metadata": {},
   "outputs": [
    {
     "data": {
      "text/plain": [
       "['Hey', 'Whats', 'going', 'on']"
      ]
     },
     "execution_count": 28,
     "metadata": {},
     "output_type": "execute_result"
    }
   ],
   "source": [
    "Hey_Whats_going_on = \"Hey Whats going on\"\n",
    "Hey_Whats_going_on.split()"
   ]
  },
  {
   "cell_type": "code",
   "execution_count": 29,
   "id": "73f19c51",
   "metadata": {},
   "outputs": [],
   "source": [
    "Hey_Whats_going_on = \"Hey Whats going on\"\n",
    "text1 = Hey_Whats_going_on.split()"
   ]
  },
  {
   "cell_type": "code",
   "execution_count": 30,
   "id": "f1769657",
   "metadata": {},
   "outputs": [
    {
     "data": {
      "text/plain": [
       "['Hey', 'Whats', 'going', 'on']"
      ]
     },
     "execution_count": 30,
     "metadata": {},
     "output_type": "execute_result"
    }
   ],
   "source": [
    "text1"
   ]
  },
  {
   "cell_type": "code",
   "execution_count": 31,
   "id": "0fb31b26",
   "metadata": {},
   "outputs": [],
   "source": [
    "city = ['Seoul', 'Paris', 'London']\n",
    "city.sort() #알파벳 순서대로 바꿔줌"
   ]
  },
  {
   "cell_type": "code",
   "execution_count": 32,
   "id": "7d699e5b",
   "metadata": {},
   "outputs": [
    {
     "data": {
      "text/plain": [
       "['London', 'Paris', 'Seoul']"
      ]
     },
     "execution_count": 32,
     "metadata": {},
     "output_type": "execute_result"
    }
   ],
   "source": [
    "city"
   ]
  },
  {
   "cell_type": "code",
   "execution_count": 4,
   "id": "0df09f65",
   "metadata": {},
   "outputs": [],
   "source": [
    "alphabet = ['A','D','B','C']\n",
    "alphabet.sort()"
   ]
  },
  {
   "cell_type": "code",
   "execution_count": 5,
   "id": "dbeba741",
   "metadata": {},
   "outputs": [
    {
     "data": {
      "text/plain": [
       "['A', 'B', 'C', 'D']"
      ]
     },
     "execution_count": 5,
     "metadata": {},
     "output_type": "execute_result"
    }
   ],
   "source": [
    "alphabet"
   ]
  },
  {
   "cell_type": "code",
   "execution_count": 7,
   "id": "3c53b18b",
   "metadata": {},
   "outputs": [],
   "source": [
    "alphabet.reverse()"
   ]
  },
  {
   "cell_type": "code",
   "execution_count": 9,
   "id": "2c5b27e7",
   "metadata": {},
   "outputs": [
    {
     "data": {
      "text/plain": [
       "['D', 'C', 'B', 'A']"
      ]
     },
     "execution_count": 9,
     "metadata": {},
     "output_type": "execute_result"
    }
   ],
   "source": [
    "alphabet"
   ]
  },
  {
   "cell_type": "code",
   "execution_count": 11,
   "id": "18e22829",
   "metadata": {},
   "outputs": [
    {
     "data": {
      "text/plain": [
       "['How', 'old', 'are', 'you']"
      ]
     },
     "execution_count": 11,
     "metadata": {},
     "output_type": "execute_result"
    }
   ],
   "source": [
    "How_old_are_you = 'How old are you'\n",
    "How_old_are_you.split()"
   ]
  },
  {
   "cell_type": "code",
   "execution_count": null,
   "id": "25e58c20",
   "metadata": {},
   "outputs": [],
   "source": []
  }
 ],
 "metadata": {
  "kernelspec": {
   "display_name": "Python 3",
   "language": "python",
   "name": "python3"
  },
  "language_info": {
   "codemirror_mode": {
    "name": "ipython",
    "version": 3
   },
   "file_extension": ".py",
   "mimetype": "text/x-python",
   "name": "python",
   "nbconvert_exporter": "python",
   "pygments_lexer": "ipython3",
   "version": "3.8.8"
  }
 },
 "nbformat": 4,
 "nbformat_minor": 5
}
