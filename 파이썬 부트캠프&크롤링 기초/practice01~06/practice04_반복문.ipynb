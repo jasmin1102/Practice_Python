{
 "cells": [
  {
   "cell_type": "markdown",
   "id": "eb960adb",
   "metadata": {},
   "source": [
    "### 반복문1\n",
    "\n",
    "for 변수 in 리스트변수/[리스트]:\n",
    "    \\\n",
    "(탭)print(변수)\n",
    "\n",
    "※ 'print(변수)'는 일종의 실행코드임!\n",
    "    \n",
    "ex)\n",
    "for i [\"python\", \"java\", \"golang\"]:\n",
    "\\\n",
    "(탭)print(i)\n",
    "    \\\n",
    "= ↑ = \n",
    "\\\n",
    "i = \"python\"\n",
    "\\\n",
    "print(i)\n",
    "\\\n",
    "i= \"java\"\n",
    "\\\n",
    "print(i)\n",
    "\\\n",
    "i= \"java\"\n",
    "\\\n",
    "print(i)\n",
    "\\\n",
    "→ 반복문을 써서 한번에 끝낼 수 있는 걸 세 번씩이나 반복하는 바보같은 짓\n",
    "\n",
    "### 반복문2\n",
    "for 변수 in range(반복횟수):\n",
    "\\\n",
    "(탭)print(변수)\n",
    "    \n",
    "ex) range(3)은 [0,1,2]를 의미하는 것으로, 결국 range(3)은 똑같은 함수를 (변수에 들어있는 데이터만 바꿔가면서) 3번 반복하겠다는 의미임"
   ]
  },
  {
   "cell_type": "code",
   "execution_count": 3,
   "id": "5f037da4",
   "metadata": {},
   "outputs": [
    {
     "name": "stdout",
     "output_type": "stream",
     "text": [
      "0 0\n",
      "1 1\n",
      "2 4\n",
      "3 9\n",
      "4 16\n",
      "5 25\n",
      "6 36\n",
      "7 49\n",
      "8 64\n",
      "9 81\n"
     ]
    }
   ],
   "source": [
    "for i in range(10):\n",
    "    print(i, i*i)"
   ]
  },
  {
   "cell_type": "code",
   "execution_count": 7,
   "id": "b645e9e6",
   "metadata": {},
   "outputs": [
    {
     "name": "stdout",
     "output_type": "stream",
     "text": [
      "안녕\n",
      "안녕\n",
      "안녕\n",
      "안녕\n",
      "안녕\n"
     ]
    }
   ],
   "source": [
    "for index in range(5): # '안녕'을 100번 반복하라는 의미\n",
    "    print(\"안녕\") "
   ]
  },
  {
   "cell_type": "code",
   "execution_count": 12,
   "id": "792dd986",
   "metadata": {},
   "outputs": [
    {
     "name": "stdout",
     "output_type": "stream",
     "text": [
      "list\n",
      "list2\n",
      "list3\n"
     ]
    }
   ],
   "source": [
    "# 반복문으로 한번에 끝내기.ver\n",
    "data_list = [\"list\", \"list2\", \"list3\"]\n",
    "for index in [\"list\", \"list2\", \"list3\"]: # 'for index in data_list'로 바꾸어 쓸 수 있음\n",
    "    print(index)"
   ]
  },
  {
   "cell_type": "code",
   "execution_count": 11,
   "id": "67c0528d",
   "metadata": {},
   "outputs": [
    {
     "name": "stdout",
     "output_type": "stream",
     "text": [
      "list\n",
      "list2\n",
      "list3\n"
     ]
    }
   ],
   "source": [
    "#▲위에 반복문이 의미하는 바(노가다뛰기.ver)\n",
    "data_list = [\"list\", \"list2\", \"list3\"]\n",
    "print(data_list[0])\n",
    "print(data_list[1])\n",
    "print(data_list[2])"
   ]
  },
  {
   "cell_type": "markdown",
   "id": "a96e0ebf",
   "metadata": {},
   "source": [
    "---"
   ]
  },
  {
   "cell_type": "code",
   "execution_count": 14,
   "id": "e0eafb92",
   "metadata": {},
   "outputs": [
    {
     "name": "stdout",
     "output_type": "stream",
     "text": [
      "0\n",
      "1\n",
      "2\n",
      "3\n",
      "4\n",
      "5\n",
      "6\n",
      "7\n",
      "8\n",
      "9\n"
     ]
    }
   ],
   "source": [
    "for index in range(10): #0을 포함한 10개의 수임에 유의할 것\n",
    "    print(index)"
   ]
  },
  {
   "cell_type": "code",
   "execution_count": 16,
   "id": "c1f5a18e",
   "metadata": {},
   "outputs": [
    {
     "name": "stdout",
     "output_type": "stream",
     "text": [
      "1\n",
      "2\n",
      "3\n",
      "4\n",
      "5\n",
      "6\n",
      "7\n",
      "8\n",
      "9\n",
      "10\n"
     ]
    }
   ],
   "source": [
    "for index in range(1,11): # ',(콤마)' 뒤에 있는 인덱스 번호 전까지만 반복한다는 의미\n",
    "    print(index)"
   ]
  },
  {
   "cell_type": "code",
   "execution_count": 19,
   "id": "a9dee194",
   "metadata": {},
   "outputs": [
    {
     "name": "stdout",
     "output_type": "stream",
     "text": [
      "55\n"
     ]
    }
   ],
   "source": [
    "#1부터 10까지의 합\n",
    "sum = 0\n",
    "for index in range(1,11):\n",
    "    sum = sum + index # 우변에 있는 sum이 좌변에 있는 sum보다 이전의 값임\n",
    "    \n",
    "print(sum)"
   ]
  },
  {
   "cell_type": "markdown",
   "id": "f6117a17",
   "metadata": {},
   "source": [
    "---"
   ]
  },
  {
   "cell_type": "markdown",
   "id": "1ea15448",
   "metadata": {},
   "source": [
    "### 반복문3: while문\n",
    "\n",
    "ex)\n",
    "\\\n",
    "i = 0\n",
    "\\\n",
    "while i <= 3: #while은 조건과 함께!\n",
    "\\\n",
    "(탭)print(i)\n",
    "\\\n",
    "(탭)i = i+1\n",
    "\n",
    "\n",
    "'while 1:'구문에서 '1'은 항상 '참'을 의미하므로 실행코드가 끊임없이 반복됨"
   ]
  },
  {
   "cell_type": "code",
   "execution_count": 3,
   "id": "80c613c6",
   "metadata": {},
   "outputs": [
    {
     "name": "stdout",
     "output_type": "stream",
     "text": [
      "What's your name?soobin\n",
      "Hi,soobin. So, where is Jasmin?\n",
      "What's your name?Jasmin\n",
      "Hi,Jasmin. So, where is Jasmin?\n"
     ]
    }
   ],
   "source": [
    "name = ''\n",
    "while name != \"Jasmin\": # '!='는 '아니면'을 의미한다. # 이 구문은 입력받은 이름이 'Jasmin'일 때까지 반복됨\n",
    "    name = input(\"What's your name?\")\n",
    "    print ('Hi,' + name + \".\" + \" So, where is Jasmin?\")"
   ]
  }
 ],
 "metadata": {
  "kernelspec": {
   "display_name": "Python 3",
   "language": "python",
   "name": "python3"
  },
  "language_info": {
   "codemirror_mode": {
    "name": "ipython",
    "version": 3
   },
   "file_extension": ".py",
   "mimetype": "text/x-python",
   "name": "python",
   "nbconvert_exporter": "python",
   "pygments_lexer": "ipython3",
   "version": "3.8.8"
  }
 },
 "nbformat": 4,
 "nbformat_minor": 5
}
