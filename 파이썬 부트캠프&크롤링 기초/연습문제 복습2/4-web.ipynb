{
 "cells": [
  {
   "cell_type": "markdown",
   "metadata": {},
   "source": [
    "## 4. 문제를 풀며 빠르게 익숙해지는 파이썬 기본 프로그래밍4"
   ]
  },
  {
   "cell_type": "markdown",
   "metadata": {},
   "source": [
    "### Exercise 49. 데이터 구조 (튜플)\n",
    "* a, b, c, d, e를 저장하는 튜플을 만들고 첫 번째 튜플값과 마지막 번째 튜플값을 출력하세요."
   ]
  },
  {
   "cell_type": "code",
   "execution_count": 1,
   "metadata": {},
   "outputs": [
    {
     "name": "stdout",
     "output_type": "stream",
     "text": [
      "a e\n"
     ]
    }
   ],
   "source": [
    "tuple_data = ('a','b','c','d','e')\n",
    "\n",
    "print(tuple_data[0], tuple_data[4])"
   ]
  },
  {
   "cell_type": "markdown",
   "metadata": {
    "collapsed": true
   },
   "source": [
    "### Exercise 50. 데이터 구조 (튜플)\n",
    "* 다음 코드를 작성해서 실행해보고 에러가 나는 이유를 설명하세요.\n",
    "\n",
    "  - 실행코드\n",
    "    ```python\n",
    "    tupledata = ('dave', 'fun-coding', 'endless')\n",
    "    tupledata[0] = 'david'\n",
    "    ```\n",
    "  - 에러\n",
    "    ```python\n",
    "    TypeError                                 Traceback (most recent call last)\n",
    "    <ipython-input-2-db4a259aad24> in <module>()\n",
    "          1 tupledata = ('dave', 'fun-coding', 'endless')\n",
    "    ----> 2 tupledata[0] = 'david'\n",
    "\n",
    "    TypeError: 'tuple' object does not support item assignment\n",
    "    ```"
   ]
  },
  {
   "cell_type": "code",
   "execution_count": 3,
   "metadata": {},
   "outputs": [
    {
     "ename": "TypeError",
     "evalue": "'tuple' object does not support item assignment",
     "output_type": "error",
     "traceback": [
      "\u001b[0;31m---------------------------------------------------------------------------\u001b[0m",
      "\u001b[0;31mTypeError\u001b[0m                                 Traceback (most recent call last)",
      "\u001b[0;32m<ipython-input-3-cc03cfbee0be>\u001b[0m in \u001b[0;36m<module>\u001b[0;34m()\u001b[0m\n\u001b[1;32m      1\u001b[0m \u001b[0mtupledata\u001b[0m \u001b[0;34m=\u001b[0m \u001b[0;34m(\u001b[0m\u001b[0;34m'dave'\u001b[0m\u001b[0;34m,\u001b[0m \u001b[0;34m'fun-coding'\u001b[0m\u001b[0;34m,\u001b[0m \u001b[0;34m'endless'\u001b[0m\u001b[0;34m)\u001b[0m\u001b[0;34m\u001b[0m\u001b[0;34m\u001b[0m\u001b[0m\n\u001b[0;32m----> 2\u001b[0;31m \u001b[0mtupledata\u001b[0m\u001b[0;34m[\u001b[0m\u001b[0;36m0\u001b[0m\u001b[0;34m]\u001b[0m \u001b[0;34m=\u001b[0m \u001b[0;34m'david'\u001b[0m\u001b[0;34m\u001b[0m\u001b[0;34m\u001b[0m\u001b[0m\n\u001b[0m",
      "\u001b[0;31mTypeError\u001b[0m: 'tuple' object does not support item assignment"
     ]
    }
   ],
   "source": [
    "tupledata = ('dave', 'fun-coding', 'endless')\n",
    "tupledata[0] = 'david'"
   ]
  },
  {
   "cell_type": "markdown",
   "metadata": {},
   "source": [
    "### Exercise 51. 데이터 구조 (튜플)\n",
    "* 다음 코드를 읽고, 최종적으로 var1과 var2의 값이 어떤 값이될지 확인해보고, 왜 이렇게 동작하는지 튜플을 기반으로 설명하세요.\n",
    "  - 실행코드\n",
    "    ```python\n",
    "    var1, var2 = 1, 2\n",
    "    var1, var2 = var2, var1\n",
    "    ```"
   ]
  },
  {
   "cell_type": "code",
   "execution_count": 2,
   "metadata": {},
   "outputs": [
    {
     "name": "stdout",
     "output_type": "stream",
     "text": [
      "2 1\n"
     ]
    }
   ],
   "source": [
    "var1, var2 = 1, 2\n",
    "var1, var2 = var2, var1\n",
    "\n",
    "print(var1, var2)"
   ]
  },
  {
   "cell_type": "markdown",
   "metadata": {},
   "source": [
    "### Exercise 52. 데이터 구조 (튜플)\n",
    "* 다음 코드에서 두번째 데이터부터 마지막 데이터를 다음과 같이 출력하세요\n",
    "\n",
    "```python\n",
    "tupledata = ('fun-coding1', 'fun-coding2', 'fun-coding3', 'fun-coding4', 'fun-coding5')\n",
    "```\n",
    "\n",
    "출력:<br>\n",
    "('fun-coding2', 'fun-coding3', 'fun-coding4', 'fun-coding5')"
   ]
  },
  {
   "cell_type": "code",
   "execution_count": 4,
   "metadata": {},
   "outputs": [
    {
     "name": "stdout",
     "output_type": "stream",
     "text": [
      "('fun-coding2', 'fun-coding3', 'fun-coding4', 'fun-coding5')\n"
     ]
    }
   ],
   "source": [
    "tupledata = ('fun-coding1', 'fun-coding2', 'fun-coding3', 'fun-coding4', 'fun-coding5')\n",
    "tuple_list = list(tupledata)\n",
    "del tuple_list[0]\n",
    "print(tuple(tuple_list))"
   ]
  },
  {
   "cell_type": "markdown",
   "metadata": {},
   "source": [
    "### Exercise 53. 데이터 구조 (튜플과 리스트)\n",
    "* 다음 튜플 데이터를 리스트 데이터로 변환한 후에 'fun-coding4' 데이터를 마지막에 추가하고, 다시 튜플 데이터로 변환하세요.\n",
    "```python\n",
    "tupledata = ('fun-coding1', 'fun-coding2', 'fun-coding3')\n",
    "```"
   ]
  },
  {
   "cell_type": "code",
   "execution_count": 5,
   "metadata": {},
   "outputs": [
    {
     "name": "stdout",
     "output_type": "stream",
     "text": [
      "('fun-coding1', 'fun-coding2', 'fun-coding3', 'fun-coding4')\n"
     ]
    }
   ],
   "source": [
    "tupledata = ('fun-coding1', 'fun-coding2', 'fun-coding3')\n",
    "tuple_list = list(tupledata)\n",
    "tuple_list.append('fun-coding4')\n",
    "print(tuple(tuple_list))"
   ]
  },
  {
   "cell_type": "markdown",
   "metadata": {},
   "source": [
    "### Exercise 54. 데이터 구조 (튜플, 리스트, 딕셔너리)\n",
    "* 비어 있는 튜플, 리스트, 딕셔너리 변수를 하나씩 각각 만드세요."
   ]
  },
  {
   "cell_type": "code",
   "execution_count": 6,
   "metadata": {},
   "outputs": [],
   "source": [
    "tuple_data = tuple()\n",
    "list_data = list()\n",
    "dict_data = dict()"
   ]
  },
  {
   "cell_type": "markdown",
   "metadata": {},
   "source": [
    "### Exercise 55. 데이터 구조 (딕셔너리)\n",
    "* 다음 영어 사전 데이터를 딕셔너리 변수로 만들고, 딕셔너리 변수의 key 값인 영어단어, value 값인 의미 만을 가진 리스트 변수를 각각 만들고, 두 리스트 변수를 출력하세요.\n",
    "\n",
    "<table>\n",
    "<thead>\n",
    "<tr>\n",
    "<th>영어단어</th>\n",
    "<th>의미</th>\n",
    "</tr>\n",
    "</thead>\n",
    "<tbody>\n",
    "<tr>\n",
    "<td>environment</td>\n",
    "<td>환경</td>\n",
    "</tr>\n",
    "<tr>\n",
    "<td>company</td>\n",
    "<td>회사</td>\n",
    "</tr>\n",
    "<tr>\n",
    "<td>government</td>\n",
    "<td>정부, 정치</td>\n",
    "</tr>\n",
    "<tr>\n",
    "<td>face</td>\n",
    "<td>얼굴</td>\n",
    "</tr>\n",
    "</tbody>\n",
    "</table>\n",
    "\n",
    "* 출력 예\n",
    "<pre>\n",
    "{'environment': '환경', 'company': '회사', 'government': '정부, 정치', 'face': '얼굴'}\n",
    "['environment', 'company', 'government', 'face']\n",
    "['환경', '회사', '정부, 정치', '얼굴']\n",
    "</pre>"
   ]
  },
  {
   "cell_type": "code",
   "execution_count": 11,
   "metadata": {},
   "outputs": [
    {
     "name": "stdout",
     "output_type": "stream",
     "text": [
      "['environment', 'company', 'government', 'face']\n",
      "['environment', 'company', 'government', 'face']\n",
      "['환경', '회사', '정부, 정치', '얼굴']\n"
     ]
    }
   ],
   "source": [
    "word_dict = {'environment': '환경', 'company': '회사', 'government': '정부, 정치', 'face': '얼굴'}\n",
    "print(list(word_dict))\n",
    "print(list(word_dict.keys()))\n",
    "print(list(word_dict.values()))"
   ]
  },
  {
   "cell_type": "markdown",
   "metadata": {},
   "source": [
    "### Exercise 56. 데이터 구조 (딕셔너리)\n",
    "* 다음 영어 사전 데이터를 딕셔너리 변수로 만들어서 다음과 같이 출력하세요.\n",
    "  - 단, 반복문을 사용하세요.\n",
    "\n",
    "<pre>\n",
    "environment : 환경\n",
    "company : 회사\n",
    "gonernment : 정부, 정치\n",
    "face : 얼굴\n",
    "</pre>\n",
    "\n",
    "<table>\n",
    "<thead>\n",
    "<tr>\n",
    "<th>영어단어</th>\n",
    "<th>의미</th>\n",
    "</tr>\n",
    "</thead>\n",
    "<tbody>\n",
    "<tr>\n",
    "<td>environment</td>\n",
    "<td>환경</td>\n",
    "</tr>\n",
    "<tr>\n",
    "<td>company</td>\n",
    "<td>회사</td>\n",
    "</tr>\n",
    "<tr>\n",
    "<td>government</td>\n",
    "<td>정부, 정치</td>\n",
    "</tr>\n",
    "<tr>\n",
    "<td>face</td>\n",
    "<td>얼굴</td>\n",
    "</tr>\n",
    "</tbody>\n",
    "</table>\n",
    "\n"
   ]
  },
  {
   "cell_type": "code",
   "execution_count": 12,
   "metadata": {},
   "outputs": [
    {
     "name": "stdout",
     "output_type": "stream",
     "text": [
      "('environment', '환경')\n",
      "('company', '회사')\n",
      "('government', '정부, 정치')\n",
      "('face', '얼굴')\n"
     ]
    }
   ],
   "source": [
    "word_dict = {'environment': '환경', 'company': '회사', 'government': '정부, 정치', 'face': '얼굴'}\n",
    "for item in word_dict.items():\n",
    "    print(item)"
   ]
  },
  {
   "cell_type": "markdown",
   "metadata": {},
   "source": [
    "### Exercise 57. 데이터 구조 (딕셔너리)\n",
    "* 다음 영어 사전 데이터를 딕셔너리 변수로 만들고 외움표시가 X 인 영어단어만 출력하세요\n",
    "  - 단, key는 영어단어, value는 의미와 외움표시 두 데이터를 넣습니다.\n",
    "\n",
    "<pre>\n",
    "environment : 환경\n",
    "company : 회사\n",
    "gonernment : 정부, 정치\n",
    "face : 얼굴\n",
    "</pre>\n",
    "\n",
    "<table>\n",
    "<thead>\n",
    "<tr>\n",
    "<th>영어단어</th>\n",
    "<th>의미</th>\n",
    "<th>외움표시</th>\n",
    "</tr>\n",
    "</thead>\n",
    "<tbody>\n",
    "<tr>\n",
    "<td>environment</td>\n",
    "<td>환경</td>\n",
    "<td>X</td>\n",
    "</tr>\n",
    "<tr>\n",
    "<td>company</td>\n",
    "<td>회사</td>\n",
    "<td>O</td>\n",
    "</tr>\n",
    "<tr>\n",
    "<td>government</td>\n",
    "<td>정부, 정치</td>\n",
    "<td>X</td>\n",
    "</tr>\n",
    "<tr>\n",
    "<td>face</td>\n",
    "<td>얼굴</td>\n",
    "<td>X</td>\n",
    "</tr>\n",
    "</tbody>\n",
    "</table>\n",
    "\n",
    "* 출력 예\n",
    "<pre>\n",
    "environment\n",
    "government\n",
    "face\n",
    "</pre>"
   ]
  },
  {
   "cell_type": "code",
   "execution_count": 15,
   "metadata": {},
   "outputs": [
    {
     "name": "stdout",
     "output_type": "stream",
     "text": [
      "environment\n",
      "government\n",
      "face\n"
     ]
    }
   ],
   "source": [
    "word_dict = {'environment': ['환경','X'], 'company': ['회사','O'], 'government': ['정부, 정치','X'], 'face': ['얼굴','X']}\n",
    "for key in word_dict.keys():\n",
    "    if word_dict[key][1] == 'X':\n",
    "        print(key)"
   ]
  },
  {
   "cell_type": "markdown",
   "metadata": {},
   "source": [
    "### Exercise 58. 데이터 구조 (딕셔너리)\n",
    "* 다음 영어 사전 데이터를 딕셔너리 변수로 만들고 사용자로부터 영어단어를 입력받으면 해당 영어단어의 외움표시를 O로 수정하고, 외움표시가 X 인 단어만 출력하는 프로그램을 작성하세요.\n",
    "  - 단, key는 영어단어, value는 의미와 외움표시 두 데이터를 넣습니다.\n",
    "\n",
    "<pre>\n",
    "environment : 환경\n",
    "company : 회사\n",
    "gonernment : 정부, 정치\n",
    "face : 얼굴\n",
    "</pre>\n",
    "\n",
    "<table>\n",
    "<thead>\n",
    "<tr>\n",
    "<th>영어단어</th>\n",
    "<th>의미</th>\n",
    "<th>외움표시</th>\n",
    "</tr>\n",
    "</thead>\n",
    "<tbody>\n",
    "<tr>\n",
    "<td>environment</td>\n",
    "<td>환경</td>\n",
    "<td>X</td>\n",
    "</tr>\n",
    "<tr>\n",
    "<td>company</td>\n",
    "<td>회사</td>\n",
    "<td>O</td>\n",
    "</tr>\n",
    "<tr>\n",
    "<td>government</td>\n",
    "<td>정부, 정치</td>\n",
    "<td>X</td>\n",
    "</tr>\n",
    "<tr>\n",
    "<td>face</td>\n",
    "<td>얼굴</td>\n",
    "<td>X</td>\n",
    "</tr>\n",
    "</tbody>\n",
    "</table>\n",
    "\n",
    "* 입력: government\n",
    "* 출력\n",
    "<pre>\n",
    "environment\n",
    "face\n",
    "</pre>"
   ]
  },
  {
   "cell_type": "code",
   "execution_count": 17,
   "metadata": {},
   "outputs": [
    {
     "name": "stdout",
     "output_type": "stream",
     "text": [
      "government\n",
      "environment\n",
      "government\n"
     ]
    }
   ],
   "source": [
    "word_dict = {'environment': ['환경','X'], 'company': ['회사','O'], 'government': ['정부, 정치','X'], 'face': ['얼굴','X']}\n",
    "\n",
    "word = input()\n",
    "\n",
    "if key in word_dict.keys():\n",
    "    word_dict[key][1] = 'O'\n",
    "\n",
    "for key in word_dict.keys():\n",
    "    if word_dict[key][1] == 'X':\n",
    "        print(key)"
   ]
  },
  {
   "cell_type": "markdown",
   "metadata": {},
   "source": [
    "### Exercise 59. 데이터 구조 (딕셔너리)\n",
    "* 다음 dict_all, dict2, dict3 딕셔너리 변수가 있을 때, dict2와 dict3 두 데이터를 dict_all 딕셔너리 변수에 추가한 후, dict_all 변수를 출력하세요.\n",
    "```python\n",
    "dict_all = {'environment': '환경', 'gonernment':'정부, 정치'}\n",
    "dict2 = {'company': '회사', 'face':'얼굴'}\n",
    "dict3 = {'apple': '사과'}\n",
    "```"
   ]
  },
  {
   "cell_type": "code",
   "execution_count": 19,
   "metadata": {},
   "outputs": [
    {
     "name": "stdout",
     "output_type": "stream",
     "text": [
      "{'environment': '환경', 'gonernment': '정부, 정치', 'company': '회사', 'face': '얼굴', 'apple': '사과'}\n"
     ]
    }
   ],
   "source": [
    "dict_all = {'environment': '환경', 'gonernment':'정부, 정치'}\n",
    "dict2 = {'company': '회사', 'face':'얼굴'}\n",
    "dict3 = {'apple': '사과'}\n",
    "\n",
    "for item in dict2:\n",
    "    dict_all[item] = dict2[item]\n",
    "for item in dict3:\n",
    "    dict_all[item] = dict3[item]\n",
    "\n",
    "print(dict_all)"
   ]
  },
  {
   "cell_type": "markdown",
   "metadata": {},
   "source": [
    "### Exercise 60. 데이터 구조 (딕셔너리)\n",
    "* 다음 actor_info 딕셔너리 변수를 만들고, 홈페이지, 배우 이름, 최근 출연 영화 갯수를 다음과 같이 출력하세요\n",
    "\n",
    "```python\n",
    "actor_info = {'actor_details': {'생년월일': '1971-03-01',\n",
    "                   '성별': '남',\n",
    "                   '직업': '배우',\n",
    "                   '홈페이지': 'https://www.instagram.com/madongseok'},\n",
    " 'actor_name': '마동석',\n",
    " 'actor_rate': 59361,\n",
    " 'date': '2017-10',\n",
    " 'movie_list': ['범죄도시', '부라더', '부산행']}\n",
    "```\n",
    "\n",
    "* 출력 예:<br>\n",
    "배우 이름: 마동석 <br>\n",
    "홈페이지: https://www.instagram.com/madongseok <br>\n",
    "출연 영화 갯수: 3 <br>"
   ]
  },
  {
   "cell_type": "code",
   "execution_count": 21,
   "metadata": {},
   "outputs": [
    {
     "name": "stdout",
     "output_type": "stream",
     "text": [
      "배우이름: 마동석\n",
      "홈페이지: https://www.instagram.com/madongseok\n",
      "출연 영화 갯수: 3\n"
     ]
    }
   ],
   "source": [
    "actor_info = {'actor_details': {'생년월일': '1971-03-01',\n",
    "                   '성별': '남',\n",
    "                   '직업': '배우',\n",
    "                   '홈페이지': 'https://www.instagram.com/madongseok'},\n",
    " 'actor_name': '마동석',\n",
    " 'actor_rate': 59361,\n",
    " 'date': '2017-10',\n",
    " 'movie_list': ['범죄도시', '부라더', '부산행']}\n",
    "\n",
    "print(\"배우이름:\",actor_info['actor_name'])\n",
    "print(\"홈페이지:\",actor_info['actor_details']['홈페이지'])\n",
    "print(\"출연 영화 갯수:\",len(actor_info['movie_list']))"
   ]
  },
  {
   "cell_type": "markdown",
   "metadata": {},
   "source": [
    "### Exercise 61.  데이터 구조 (집합)\n",
    "number_list가 다음과 같은 리스트일 때 중복 숫자를 제거한 number_list1 집합을 만들고, 출력하세요\n",
    "```python\n",
    "number_list = [5, 1, 2, 2, 3, 3, 4, 5, 5, 6, 7, 8, 9, 9, 10, 10]\n",
    "```"
   ]
  },
  {
   "cell_type": "code",
   "execution_count": 23,
   "metadata": {},
   "outputs": [
    {
     "name": "stdout",
     "output_type": "stream",
     "text": [
      "{1, 2, 3, 4, 5, 6, 7, 8, 9, 10}\n"
     ]
    }
   ],
   "source": [
    "number_list = [5, 1, 2, 2, 3, 3, 4, 5, 5, 6, 7, 8, 9, 9, 10, 10]\n",
    "number_list1 = set(number_list)\n",
    "print(number_list1)"
   ]
  },
  {
   "cell_type": "markdown",
   "metadata": {},
   "source": [
    "### Exercise 62.  데이터 구조 (집합)\n",
    "number_list2에 다음과 같은 데이터를 순서대로 추가하고, 제거하세요\n",
    "```python\n",
    "선언: [1, 2, 3]\n",
    "추가: 4\n",
    "추가(업데이트): [5, 6]\n",
    "제거: 2\n",
    "```"
   ]
  },
  {
   "cell_type": "code",
   "execution_count": 28,
   "metadata": {},
   "outputs": [
    {
     "name": "stdout",
     "output_type": "stream",
     "text": [
      "{1, 3, 4, 5, 6}\n"
     ]
    }
   ],
   "source": [
    "number_list2 = [1,2,3]\n",
    "\n",
    "set2 = set(number_list2)\n",
    "set2.add(4)\n",
    "set2.update([5,6])\n",
    "set2.remove(2)\n",
    "\n",
    "print(set2)"
   ]
  },
  {
   "cell_type": "markdown",
   "metadata": {},
   "source": [
    "### Exercise 63.  데이터 구조 (집합)\n",
    "number_list1과 number_list2의 교집합, 차집합을 출력하세요"
   ]
  },
  {
   "cell_type": "code",
   "execution_count": 29,
   "metadata": {},
   "outputs": [
    {
     "name": "stdout",
     "output_type": "stream",
     "text": [
      "{1, 3, 4, 5, 6}\n",
      "{2, 7, 8, 9, 10}\n"
     ]
    }
   ],
   "source": [
    "print(number_list1&set2)\n",
    "print(number_list1-set2)"
   ]
  },
  {
   "cell_type": "code",
   "execution_count": null,
   "metadata": {},
   "outputs": [],
   "source": []
  }
 ],
 "metadata": {
  "kernelspec": {
   "display_name": "Python 3",
   "language": "python",
   "name": "python3"
  },
  "language_info": {
   "codemirror_mode": {
    "name": "ipython",
    "version": 3
   },
   "file_extension": ".py",
   "mimetype": "text/x-python",
   "name": "python",
   "nbconvert_exporter": "python",
   "pygments_lexer": "ipython3",
   "version": "3.8.8"
  },
  "nbTranslate": {
   "displayLangs": [
    "*"
   ],
   "hotkey": "alt-t",
   "langInMainMenu": true,
   "sourceLang": "en",
   "targetLang": "fr",
   "useGoogleTranslate": true
  }
 },
 "nbformat": 4,
 "nbformat_minor": 2
}
