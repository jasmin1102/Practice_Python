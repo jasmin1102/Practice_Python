{
 "cells": [
  {
   "cell_type": "markdown",
   "id": "73f5bd93",
   "metadata": {},
   "source": [
    "### 정규표현식 - Dot."
   ]
  },
  {
   "cell_type": "code",
   "execution_count": 1,
   "id": "99718e02",
   "metadata": {},
   "outputs": [],
   "source": [
    "import re\n",
    "pattern = re.compile('D.A') #pattern은 객체 #D.A는 문자 D와 문자A사이에 반드시 하나의 문자가 들어가 있어야 함을 의미"
   ]
  },
  {
   "cell_type": "code",
   "execution_count": 2,
   "id": "521b7ad1",
   "metadata": {},
   "outputs": [
    {
     "data": {
      "text/plain": [
       "<re.Match object; span=(0, 3), match='DAA'>"
      ]
     },
     "execution_count": 2,
     "metadata": {},
     "output_type": "execute_result"
    }
   ],
   "source": [
    "pattern.search('DAA')"
   ]
  },
  {
   "cell_type": "code",
   "execution_count": 3,
   "id": "8fb9fbeb",
   "metadata": {},
   "outputs": [
    {
     "data": {
      "text/plain": [
       "<re.Match object; span=(0, 3), match='D1A'>"
      ]
     },
     "execution_count": 3,
     "metadata": {},
     "output_type": "execute_result"
    }
   ],
   "source": [
    "pattern.search('D1A')"
   ]
  },
  {
   "cell_type": "markdown",
   "id": "891ce665",
   "metadata": {},
   "source": [
    "pattern.search('DA') # 지정해놓은 패턴에 어긋나므로 결과값 산출하지X"
   ]
  },
  {
   "cell_type": "code",
   "execution_count": 7,
   "id": "5c6c6055",
   "metadata": {},
   "outputs": [],
   "source": [
    "pattern.search('D00A') "
   ]
  },
  {
   "cell_type": "code",
   "execution_count": 8,
   "id": "87ba5c2c",
   "metadata": {},
   "outputs": [],
   "source": [
    "pattern.search('d0A')"
   ]
  },
  {
   "cell_type": "code",
   "execution_count": 9,
   "id": "68819af4",
   "metadata": {
    "scrolled": true
   },
   "outputs": [
    {
     "data": {
      "text/plain": [
       "<re.Match object; span=(4, 7), match='D1A'>"
      ]
     },
     "execution_count": 9,
     "metadata": {},
     "output_type": "execute_result"
    }
   ],
   "source": [
    "pattern.search(\"d0A D1A 0111\") #span(4,7)은 인덱스번호 4부터7까지를 나타냄.인덱스번호 4~7까지에 해당하는 부분만 패턴에 매칭(부합)됨"
   ]
  },
  {
   "cell_type": "code",
   "execution_count": 10,
   "id": "588a8b35",
   "metadata": {},
   "outputs": [
    {
     "data": {
      "text/plain": [
       "'DAVE DAVE DAVE DA'"
      ]
     },
     "execution_count": 10,
     "metadata": {},
     "output_type": "execute_result"
    }
   ],
   "source": [
    "# 특정 패턴에 매칭되는 것을 찾고, 그것을 다른 문자열로 바꾸기\n",
    "\n",
    "string = \"DDA DIA DDA DA\"\n",
    "re.sub('D.A','DAVE',string) # string변수에 들어있는 데이터에서 'D.A'패턴에 부합되는 문자열은 'DAVE'로 바꾸라는 명령"
   ]
  },
  {
   "cell_type": "markdown",
   "id": "e26c46a7",
   "metadata": {},
   "source": [
    "-----------------------"
   ]
  },
  {
   "cell_type": "markdown",
   "id": "f9a2ca13",
   "metadata": {},
   "source": [
    "### 정규표현식 - 반복: ? / * / + : 앞문자가 기준!"
   ]
  },
  {
   "cell_type": "code",
   "execution_count": 11,
   "id": "05552c3e",
   "metadata": {},
   "outputs": [],
   "source": [
    "# ? 사용 예\n",
    "pattern = re.compile('D?A') #앞문자 D가 없거나 여러번 반복되고, 마지막 문자는 A인 문자열"
   ]
  },
  {
   "cell_type": "code",
   "execution_count": 12,
   "id": "bb836211",
   "metadata": {},
   "outputs": [
    {
     "data": {
      "text/plain": [
       "<re.Match object; span=(0, 1), match='A'>"
      ]
     },
     "execution_count": 12,
     "metadata": {},
     "output_type": "execute_result"
    }
   ],
   "source": [
    "pattern.search('A')"
   ]
  },
  {
   "cell_type": "code",
   "execution_count": 13,
   "id": "020ed631",
   "metadata": {},
   "outputs": [
    {
     "data": {
      "text/plain": [
       "<re.Match object; span=(0, 2), match='DA'>"
      ]
     },
     "execution_count": 13,
     "metadata": {},
     "output_type": "execute_result"
    }
   ],
   "source": [
    "pattern.search('DA')"
   ]
  },
  {
   "cell_type": "code",
   "execution_count": 16,
   "id": "190ac2c1",
   "metadata": {},
   "outputs": [
    {
     "data": {
      "text/plain": [
       "<re.Match object; span=(5, 7), match='DA'>"
      ]
     },
     "execution_count": 16,
     "metadata": {},
     "output_type": "execute_result"
    }
   ],
   "source": [
    "pattern.search('DDDDDDA') # '*'과 달리 '?'는 'DA'만을 매칭시킴"
   ]
  },
  {
   "cell_type": "code",
   "execution_count": null,
   "id": "dd5afdfa",
   "metadata": {},
   "outputs": [],
   "source": []
  },
  {
   "cell_type": "code",
   "execution_count": 17,
   "id": "cca1f8f9",
   "metadata": {},
   "outputs": [],
   "source": [
    "# *사용 예\n",
    "pattern = re.compile('D*A') #앞문자 D가 없거나 여러번 반복되고, 마지막 문자는 A인 문자열"
   ]
  },
  {
   "cell_type": "code",
   "execution_count": 22,
   "id": "365f7c9f",
   "metadata": {},
   "outputs": [
    {
     "data": {
      "text/plain": [
       "<re.Match object; span=(0, 7), match='DDDDDDA'>"
      ]
     },
     "execution_count": 22,
     "metadata": {},
     "output_type": "execute_result"
    }
   ],
   "source": [
    "pattern.search('DDDDDDA') #'?'와 달리 '*' 모든 D와 A를 매칭시킴"
   ]
  },
  {
   "cell_type": "code",
   "execution_count": 24,
   "id": "173dfa3a",
   "metadata": {},
   "outputs": [
    {
     "data": {
      "text/plain": [
       "<re.Match object; span=(1, 8), match='DDDDDDA'>"
      ]
     },
     "execution_count": 24,
     "metadata": {},
     "output_type": "execute_result"
    }
   ],
   "source": [
    "pattern.search('ADDDDDDA')"
   ]
  },
  {
   "cell_type": "code",
   "execution_count": null,
   "id": "e2d4124b",
   "metadata": {},
   "outputs": [],
   "source": []
  },
  {
   "cell_type": "code",
   "execution_count": 31,
   "id": "37c03965",
   "metadata": {},
   "outputs": [],
   "source": [
    "# +사용 예\n",
    "pattern = re.compile('D+A') #앞문자 D가 반드시 한 번 이상 나와야 하고, 마지막 문자는 A인 문자열"
   ]
  },
  {
   "cell_type": "code",
   "execution_count": 32,
   "id": "222d3b0f",
   "metadata": {},
   "outputs": [],
   "source": [
    "pattern.search('A')"
   ]
  },
  {
   "cell_type": "code",
   "execution_count": 33,
   "id": "5c282d73",
   "metadata": {},
   "outputs": [
    {
     "data": {
      "text/plain": [
       "<re.Match object; span=(0, 2), match='DA'>"
      ]
     },
     "execution_count": 33,
     "metadata": {},
     "output_type": "execute_result"
    }
   ],
   "source": [
    "pattern.search('DA')"
   ]
  },
  {
   "cell_type": "code",
   "execution_count": 34,
   "id": "8e2dd715",
   "metadata": {},
   "outputs": [
    {
     "data": {
      "text/plain": [
       "<re.Match object; span=(0, 17), match='DDDDDDDDDDDDDDDDA'>"
      ]
     },
     "execution_count": 34,
     "metadata": {},
     "output_type": "execute_result"
    }
   ],
   "source": [
    "pattern.search('DDDDDDDDDDDDDDDDA')"
   ]
  },
  {
   "cell_type": "markdown",
   "id": "b44b8076",
   "metadata": {},
   "source": [
    "__________________________________________ "
   ]
  },
  {
   "cell_type": "code",
   "execution_count": null,
   "id": "f6004fd5",
   "metadata": {},
   "outputs": [],
   "source": []
  }
 ],
 "metadata": {
  "kernelspec": {
   "display_name": "Python 3",
   "language": "python",
   "name": "python3"
  },
  "language_info": {
   "codemirror_mode": {
    "name": "ipython",
    "version": 3
   },
   "file_extension": ".py",
   "mimetype": "text/x-python",
   "name": "python",
   "nbconvert_exporter": "python",
   "pygments_lexer": "ipython3",
   "version": "3.8.8"
  }
 },
 "nbformat": 4,
 "nbformat_minor": 5
}
