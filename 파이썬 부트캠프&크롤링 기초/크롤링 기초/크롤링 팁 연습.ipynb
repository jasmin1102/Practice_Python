{
 "cells": [
  {
   "cell_type": "code",
   "execution_count": 25,
   "id": "1cb455f2",
   "metadata": {},
   "outputs": [
    {
     "name": "stdout",
     "output_type": "stream",
     "text": [
      "1 .  클래스 소개\n",
      "2 .  블로그 개발 필요한 준비물 준비하기\n",
      "3 .  Github pages 설정해서 블로그 첫 페이지 만들어보기\n",
      "4 .  초간단 페이지 만들어보기\n",
      "5 .  이쁘게 테마 적용해보기\n",
      "6 .  마크다운 기초 이해하고, 실제 나만의 블로그 페이지 만들기\n",
      "7 .  다양한 마크다운 기법 익혀보며, 나만의 블로그 페이지 꾸며보기\n"
     ]
    }
   ],
   "source": [
    "import requests\n",
    "from bs4 import BeautifulSoup\n",
    "\n",
    "res = requests.get('https://davelee-fun.github.io/blog/crawl_test')\n",
    "soup = BeautifulSoup(res.content, 'html.parser')\n",
    "\n",
    "data = soup.find('ul', id =\"hobby_course_list\") # 1번\n",
    "data_detail = data.find_all('li', class_ = 'course') # 2번\n",
    "\n",
    "for index, item in enumerate(data_detail):\n",
    "    print(str(index+1),'.',item.get_text().split('-')[1])"
   ]
  },
  {
   "cell_type": "code",
   "execution_count": null,
   "id": "00510efb",
   "metadata": {},
   "outputs": [],
   "source": []
  },
  {
   "cell_type": "code",
   "execution_count": null,
   "id": "f01d03e4",
   "metadata": {},
   "outputs": [],
   "source": []
  },
  {
   "cell_type": "code",
   "execution_count": 72,
   "id": "293a5568",
   "metadata": {},
   "outputs": [
    {
     "name": "stdout",
     "output_type": "stream",
     "text": [
      "1 정부가 침체된 공모펀드 시장 활성화를 위해 성과 보수 연동 펀드를 4년만에 다시 내놓았다\n",
      "2  기존 성과 보수 펀드의 문제점을 보완하고 책임운용을 강화해 투자자 유입을 늘리겠단 취지다\n",
      "3  하지만 자산운용업계는 번지수를 잘못 짚었다며 냉랭한 반응을 나타냈다\n"
     ]
    }
   ],
   "source": [
    "import requests\n",
    "from bs4 import BeautifulSoup\n",
    "\n",
    "site = requests.get('https://news.v.daum.net/v/20210716144722106')\n",
    "soup = BeautifulSoup(site.content, 'html.parser')\n",
    "\n",
    "data = soup.find('p', attrs = {'dmcf-pid':\"ko0TTiJsCg\", 'dmcf-ptype':\"general\"})\n",
    "data_arrange = data.get_text().split('.')\n",
    "del data_arrange[3]\n",
    "\n",
    "for index, item in enumerate(data_arrange):\n",
    "    print(str(index+1),item)"
   ]
  },
  {
   "cell_type": "code",
   "execution_count": null,
   "id": "849c696a",
   "metadata": {},
   "outputs": [],
   "source": []
  },
  {
   "cell_type": "code",
   "execution_count": null,
   "id": "59e06c5f",
   "metadata": {},
   "outputs": [],
   "source": []
  },
  {
   "cell_type": "code",
   "execution_count": 81,
   "id": "d797cf94",
   "metadata": {},
   "outputs": [
    {
     "name": "stdout",
     "output_type": "stream",
     "text": [
      "['지난 15일 서울 서초구 고속버스터미널 임시선별진료소에서 폭염을 피하기 위해 양산을 쓴 시민들이 줄을 서서 순서를 기다리고 있다']\n"
     ]
    }
   ],
   "source": [
    "import requests\n",
    "from bs4 import BeautifulSoup\n",
    "\n",
    "site = requests.get('https://news.v.daum.net/v/20210716153438843')\n",
    "explore = BeautifulSoup(site.content, 'html.parser')\n",
    "\n",
    "data = explore.find('figcaption', \"txt_caption default_figure\")\n",
    "\n",
    "data_edited = data.get_text().strip().split('.')\n",
    "del data_edited[1]\n",
    "print(data_edited)"
   ]
  },
  {
   "cell_type": "code",
   "execution_count": null,
   "id": "7b59a684",
   "metadata": {},
   "outputs": [],
   "source": []
  },
  {
   "cell_type": "code",
   "execution_count": null,
   "id": "5b702cc3",
   "metadata": {},
   "outputs": [],
   "source": []
  },
  {
   "cell_type": "code",
   "execution_count": 11,
   "id": "a8e9d55b",
   "metadata": {},
   "outputs": [
    {
     "data": {
      "text/plain": [
       "' 코로나19 4차 대유행에 따른 방역조치 강화로 내수와 고용 등에서 타격이 불가피할 것이란 경고음이 커지고 있다. 정부가 16일 내놓은 경기진단에서 “음식·숙박·관광 등 대면서비스업종을 중심으로 피해가 커질 것”이라며 5개월 만에 ‘불확실성’을 언급한 것이다. 방역 상황이 개선되지 않는 한 소비진작책을 쓸 수 없다는 점에서 정부 고민이 깊어지고 있다.'"
      ]
     },
     "execution_count": 11,
     "metadata": {},
     "output_type": "execute_result"
    }
   ],
   "source": [
    "import requests\n",
    "from bs4 import BeautifulSoup\n",
    "\n",
    "site = requests.get('https://news.v.daum.net/v/20210716153438843')\n",
    "explore = BeautifulSoup(site.content, 'html.parser')\n",
    "\n",
    "data = explore.find('p', attrs={'dmcf-pid':\"k3I7Hg27lX\", 'dmcf-ptype':\"general\"})\n",
    "data.get_text().split(']')[1]"
   ]
  },
  {
   "cell_type": "code",
   "execution_count": null,
   "id": "78d2e06b",
   "metadata": {},
   "outputs": [],
   "source": []
  }
 ],
 "metadata": {
  "kernelspec": {
   "display_name": "Python 3",
   "language": "python",
   "name": "python3"
  },
  "language_info": {
   "codemirror_mode": {
    "name": "ipython",
    "version": 3
   },
   "file_extension": ".py",
   "mimetype": "text/x-python",
   "name": "python",
   "nbconvert_exporter": "python",
   "pygments_lexer": "ipython3",
   "version": "3.8.8"
  }
 },
 "nbformat": 4,
 "nbformat_minor": 5
}
