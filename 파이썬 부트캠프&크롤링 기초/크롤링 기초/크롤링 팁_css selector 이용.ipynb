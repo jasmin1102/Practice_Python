{
 "cells": [
  {
   "cell_type": "code",
   "execution_count": 1,
   "id": "081af473",
   "metadata": {},
   "outputs": [
    {
     "name": "stdout",
     "output_type": "stream",
     "text": [
      "나만의 엣지있는 블로그 사이트 만들기\n",
      "당신의 커리어에 파이썬을 입히세요! 자신만의 자동 프로그램까지 가져가는 특별한 강의\n"
     ]
    }
   ],
   "source": [
    "# 1. select함수에 태그만 대입\n",
    "\n",
    "import requests\n",
    "from bs4 import BeautifulSoup\n",
    "\n",
    "res = requests.get('https://davelee-fun.github.io/blog/crawl_test')\n",
    "soup = BeautifulSoup(res.content, 'html.parser')\n",
    "items = soup.select('h3') # selct함수는 데이터를 리스트 타입으로 가져오므로 for문 사용\n",
    "for item in items:\n",
    "    print(item.get_text())"
   ]
  },
  {
   "cell_type": "code",
   "execution_count": 45,
   "id": "7e17cf88",
   "metadata": {
    "scrolled": true
   },
   "outputs": [
    {
     "name": "stdout",
     "output_type": "stream",
     "text": [
      "관련이슈 이슈키워드\n",
      "입력 : 2021-07-17 10:39:31 수정 : 2021-07-17 10:39:30\n",
      "인쇄 메일 글씨 크기 선택  가장 작은 크기 글자 한 단계 작은 크기 글자 기본 크기 글자 한 단계 큰 크기 글자 가장 큰 크기 글자\n",
      "\n",
      "7월 들어 일찍 찾아온 무더위에 전국에 ‘폭염주의보’가 발령됐다. 다음 주에는 최고 40도에 육박하는 엄청난 폭염이 찾아올 것이라는 전망도 나오고 있다.\n",
      "\n",
      "이렇게 한낮 무더위가 찾아오면 ‘열사병’ 등 온열질환으로 인한 사망자가 속출할 수 있어 건강에 유의해야 한다. 특히 몸이 약한 노약자와 만성질환자는 각별한 주의가 필요하다.\n",
      "\n",
      "열사병은 우리 몸이 조절할 수 있는 체온의 방어기전보다 더욱 많은 열을 받게 되면 발생한다. 과도한 고온 환경에 노출되거나 더운 환경에서 장시간 작업, 운동 등을 하면서 신체의 열 발산이 원활히 이뤄지지 않아 고체온 상태가 되면서 발생하는 신체 이상이다.\n",
      "\n",
      "우리 몸의 방어 기능이 소실되면 높은 체온에 의해 신체 조직이 파괴되어 심할 경우 사망에 이르게 된다. 특히 신종 코로나바이러스 감염증(코로나19) 팬데믹(세계적 대유행)으로 마스크를 일상적으로 착용하고 있어야 하는 요즘에는 적정 체온 관리에 더욱 신경 써야 한다.\n",
      "\n",
      "17일 의료계에 따르면 우리 몸은 고온에 노출되면 체내 조직의 손상이나 효소의 변성을 막기 위해 땀을 흘리는 등 발한 작용으로 체온을 일정하게 유지하려고 노력한다. 하지만 요즘 같은 ‘고온다습’한 환경에 장시간 노출되거나 과도한 신체활동을 할 경우 몸의 열을 내보내지 못해 열사병이 걸릴 위험이 높다.\n",
      "\n",
      "여름철 햇볕에 오래 서 있다가 갑자기 쓰러지는 것은 더위로 인한 ‘열탈진’이 주원인이다. 이는 무더위에 힘들어진 인체 내 순환기능이 뇌로 혈액을 충분히 공급하지 못해 일시적으로 어지럼증을 느껴 발생하는 질환이다. 열탈진은 그늘에서 안정을 취하게 하면 곧 회복된다.\n",
      "\n",
      "하지만 열사병은 체온 조절 중추 자체가 기능을 상실한 것으로 40도 이상 체온이 올라가는 데도 땀을 흘리지 않고 얼굴이 창백해지면서 의식장애, 쇼크 등 혼수상태에 빠지는 것이 특징이다. 응급처치가 늦어지면 고열로 인해 세포가 파괴되고 뇌와 간, 심장, 신장 등 장기가 손상돼 심하면 사망에 이를 수 있기 때문에 무엇보다 빠른 대처가 필요하다.\n",
      "\n",
      "특히 면역력이 떨어지고 더위에 취약한 어린이와 노약자, 만성질환자 등은 열사병에 각별히 주의해야 한다. 또한 건강한 성인이라도 운동이나 야외활동을 하거나 무덥고 밀폐된 공간에서 일을 할 경우 평소보다 자주 서늘한 곳을 찾아 휴식을 취해야 한다.\n",
      "\n",
      "요즘처럼 불볕더위가 기승을 부리는 한낮에는 가급적 외출을 삼가야 한다. 만약 더위로 인해 현기증이나 두통 증상이 발생하면 즉시 병원을 찾아 진단과 치료를 받아야 한다.\n",
      "\n",
      "열사병 환자가 발견되면 가장 먼저 체온을 떨어뜨릴 수 있는 모든 방법을 쓰고 최대한 빨리 병원으로 이송해야 한다. 환자를 신속하게 서늘한 곳으로 옮겨 옷을 풀어 주고 환자의 몸에 미지근한 물을 분무기 등으로 뿜으면서 부채나 선풍기 등을 사용해 시원한 바람을 불어주는 등 몸의 열을 낮추도록 노력해야 한다. 필요하면 심폐소생술도 실시한다. 하지만 알코올 스펀지로 몸을 닦는 것은 많은 양의 알코올이 확장된 피부 혈관을 통해 흡수돼 독성을 나타낼 수 있으므로 피해야 한다.\n",
      "\n",
      "아울러 열사병을 예방하기 위해서는 무더운 날씨에는 가급적 야외 활동을 피하고 충분한 휴식과 함께 물을 평소보다 자주 마시는 것이 좋다. 실내온도는 실외 온도와 많이 차이가 나지 않도록 하고 통풍이 잘 되도록 실내 환경을 자주 환기시키는 것도 도움이 된다.\n",
      "\n",
      "[ⓒ 세계일보 & Segye.com, 무단전재 및 재배포 금지]\n",
      "제호 : 세계일보\n",
      "서울특별시 용산구 서빙고로 17\n",
      "등록번호 : 서울, 아03959\n",
      "등록일(발행일) : 2015년 11월 2일\n",
      "발행인 : 정희택\n",
      "편집인 : 황정미\n",
      "전화번호 : 02-2000-1234\n",
      "청소년보호 책임자 : 박광재\n",
      "Copyright ⓒ 세계일보 All rights reserved.\n"
     ]
    }
   ],
   "source": [
    "# 1번 연습\n",
    "\n",
    "import requests\n",
    "from bs4 import BeautifulSoup\n",
    "\n",
    "res_p = requests.get('https://www.segye.com/newsView/20210717503285?OutUrl=naver')\n",
    "soup_p = BeautifulSoup(res_p.content, 'html.parser')\n",
    "item_p = soup_p.select('p')\n",
    "\n",
    "for item in item_p:\n",
    "    print(item.get_text().strip())"
   ]
  },
  {
   "cell_type": "code",
   "execution_count": null,
   "id": "dc08eb38",
   "metadata": {},
   "outputs": [],
   "source": []
  },
  {
   "cell_type": "code",
   "execution_count": 4,
   "id": "2c523087",
   "metadata": {
    "scrolled": true
   },
   "outputs": [
    {
     "name": "stdout",
     "output_type": "stream",
     "text": [
      "(왕초보) - 클래스 소개\n",
      "(왕초보) - 블로그 개발 필요한 준비물 준비하기\n",
      "(왕초보) - Github pages 설정해서 블로그 첫 페이지 만들어보기\n",
      "(왕초보) - 초간단 페이지 만들어보기\n",
      "(왕초보) - 이쁘게 테마 적용해보기\n",
      "(왕초보) - 마크다운 기초 이해하고, 실제 나만의 블로그 페이지 만들기\n",
      "(왕초보) - 다양한 마크다운 기법 익혀보며, 나만의 블로그 페이지 꾸며보기\n",
      "(초급) - 강사가 실제 사용하는 자동 프로그램 소개 [2]\n",
      "(초급) - 필요한 프로그램 설치 시연 [5]\n",
      "(초급) - 데이터를 엑셀 파일로 만들기 [9]\n",
      "(초급) -     엑셀 파일 이쁘게! 이쁘게! [8]\n",
      "(초급) -     나대신 주기적으로 파이썬 프로그램 실행하기 [7]\n",
      "(초급) - 파이썬으로 슬랙(slack) 메신저에 글쓰기 [40]\n",
      "(초급) - 웹사이트 변경사항 주기적으로 체크해서, 메신저로 알람주기 [12]\n",
      "(초급) - 네이버 API 사용해서, 블로그에 글쓰기 [42]\n",
      "(중급) - 자동으로 쿠팡파트너스 API 로 가져온 상품 정보, 네이버 블로그/트위터에 홍보하기 [412]\n"
     ]
    }
   ],
   "source": [
    "# 2. select 함수에 '상위태그(스페이스)하위태그' 대입\n",
    "\n",
    "import requests\n",
    "from bs4 import BeautifulSoup\n",
    "\n",
    "res = requests.get('https://davelee-fun.github.io/blog/crawl_test')\n",
    "soup = BeautifulSoup(res.content, 'html.parser') \n",
    "items = soup.select('ul li') #'상위태그(스페이스)하위태그' # selct함수는 데이터를 리스트 타입으로 가져오므로 for문 사용\n",
    "#특정 상위태그 바로 밑에 있는 하위태그를 나타내고 싶은 경우, 상위태그와 하위태그 사이에 '>'를 넣어도 됨\n",
    "for item in items:\n",
    "    print(item.get_text())"
   ]
  },
  {
   "cell_type": "code",
   "execution_count": 71,
   "id": "128084f2",
   "metadata": {},
   "outputs": [
    {
     "name": "stdout",
     "output_type": "stream",
     "text": [
      "열사병, 신체가 조절 가능한 체온의 방어기전보다 많은 열을 받으면 발생‘고온다습’한 환경서 장시간 노출·과도한 신체활동 시 열 발산 안돼 위험한낮엔 야외활동 자제·물 자주 섭취…어린이·노약자·만성질환자 특히 조심열사병 환자, 신속히 서늘한 곳 옮겨 열 식혀야…최대한 빨리 병원 이송필요.\n"
     ]
    }
   ],
   "source": [
    "# 2번 연습\n",
    "\n",
    "import requests\n",
    "from bs4 import BeautifulSoup\n",
    "\n",
    "res_2 = requests.get(\"https://www.segye.com/newsView/20210717503285?OutUrl=naver\")\n",
    "soup_2 = BeautifulSoup(res_2.content, 'html.parser')\n",
    "item_2 = soup_2.select_one('div em')\n",
    "\n",
    "print(item_2.get_text()+'필요.')"
   ]
  },
  {
   "cell_type": "code",
   "execution_count": null,
   "id": "5c765649",
   "metadata": {},
   "outputs": [],
   "source": []
  },
  {
   "cell_type": "code",
   "execution_count": 7,
   "id": "2c8bfcd4",
   "metadata": {},
   "outputs": [
    {
     "name": "stdout",
     "output_type": "stream",
     "text": [
      "(왕초보) - 클래스 소개\n",
      "(왕초보) - 블로그 개발 필요한 준비물 준비하기\n",
      "(왕초보) - Github pages 설정해서 블로그 첫 페이지 만들어보기\n",
      "(왕초보) - 초간단 페이지 만들어보기\n",
      "(왕초보) - 이쁘게 테마 적용해보기\n",
      "(왕초보) - 마크다운 기초 이해하고, 실제 나만의 블로그 페이지 만들기\n",
      "(왕초보) - 다양한 마크다운 기법 익혀보며, 나만의 블로그 페이지 꾸며보기\n",
      "(초급) - 강사가 실제 사용하는 자동 프로그램 소개 [2]\n",
      "(초급) - 필요한 프로그램 설치 시연 [5]\n",
      "(초급) - 데이터를 엑셀 파일로 만들기 [9]\n",
      "(초급) -     엑셀 파일 이쁘게! 이쁘게! [8]\n",
      "(초급) -     나대신 주기적으로 파이썬 프로그램 실행하기 [7]\n",
      "(초급) - 파이썬으로 슬랙(slack) 메신저에 글쓰기 [40]\n",
      "(초급) - 웹사이트 변경사항 주기적으로 체크해서, 메신저로 알람주기 [12]\n",
      "(초급) - 네이버 API 사용해서, 블로그에 글쓰기 [42]\n",
      "(중급) - 자동으로 쿠팡파트너스 API 로 가져온 상품 정보, 네이버 블로그/트위터에 홍보하기 [412]\n"
     ]
    }
   ],
   "source": [
    "# 3. class클래스 이름으로 검색하기\n",
    "\n",
    "import requests\n",
    "from bs4 import BeautifulSoup\n",
    "\n",
    "res = requests.get('https://davelee-fun.github.io/blog/crawl_test')\n",
    "soup = BeautifulSoup(res.content, 'html.parser')\n",
    "items = soup.select('.course') # '.클래스명' 대입\n",
    "# id의 경우 '#id명' 대입\n",
    "# 클래스명 여러개인 경우: '.클래스명1.클래스명2.클래스명.3 ~' : 클래스명과 클래스명 사이에 '.'을 넣어 연결\n",
    "for item in items:\n",
    "    print(item.get_text())"
   ]
  },
  {
   "cell_type": "code",
   "execution_count": 72,
   "id": "db972641",
   "metadata": {},
   "outputs": [
    {
     "name": "stdout",
     "output_type": "stream",
     "text": [
      "열사병, 신체가 조절 가능한 체온의 방어기전보다 많은 열을 받으면 발생‘고온다습’한 환경서 장시간 노출·과도한 신체활동 시 열 발산 안돼 위험한낮엔 야외활동 자제·물 자주 섭취…어린이·노약자·만성질환자 특히 조심열사병 환자, 신속히 서늘한 곳 옮겨 열 식혀야…최대한 빨리 병원 이송\n"
     ]
    }
   ],
   "source": [
    "# 3번 연습\n",
    "\n",
    "import requests\n",
    "from bs4 import BeautifulSoup\n",
    "\n",
    "res_3 = requests.get(\"https://www.segye.com/newsView/20210717503285?OutUrl=naver\")\n",
    "soup_3 = BeautifulSoup(res_3.content,'html.parser')\n",
    "item_3 = soup_3.select('.precis')\n",
    "\n",
    "for item in item_3:\n",
    "    print(item.get_text())"
   ]
  },
  {
   "cell_type": "code",
   "execution_count": null,
   "id": "a654597e",
   "metadata": {},
   "outputs": [],
   "source": []
  },
  {
   "cell_type": "code",
   "execution_count": 7,
   "id": "7fca0404",
   "metadata": {
    "scrolled": true
   },
   "outputs": [
    {
     "name": "stdout",
     "output_type": "stream",
     "text": [
      "(중급) - 자동으로 쿠팡파트너스 API 로 가져온 상품 정보, 네이버 블로그/트위터에 홍보하기 [412]\n"
     ]
    }
   ],
   "source": [
    "###. 태그와 class명/id명을 함께 사용하여 검색하는 법\n",
    "\n",
    "import requests\n",
    "from bs4 import BeautifulSoup\n",
    "\n",
    "res = requests.get('https://davelee-fun.github.io/blog/crawl_html_css.html')\n",
    "soup = BeautifulSoup(res.content, 'html.parser')\n",
    "items = soup.select('ul#dev_course_list li.course.paid') # '태그#아이디명(스페이스)하위태그.클래스명1.클래스명2~'\n",
    "                                                    # '태그.클래스명(스페이스)하위태그#id명1 ~'\n",
    "for item in items:\n",
    "    print(item.get_text())"
   ]
  },
  {
   "cell_type": "code",
   "execution_count": 91,
   "id": "3283f716",
   "metadata": {},
   "outputs": [
    {
     "name": "stdout",
     "output_type": "stream",
     "text": [
      "1.강사가 실제 사용하는 자동 프로그램 소개 \n",
      "2.필요한 프로그램 설치 시연 \n",
      "3.데이터를 엑셀 파일로 만들기 \n",
      "4.엑셀 파일 이쁘게! 이쁘게! \n",
      "5.나대신 주기적으로 파이썬 프로그램 실행하기 \n",
      "6.파이썬으로 슬랙(slack) 메신저에 글쓰기 \n",
      "7.웹사이트 변경사항 주기적으로 체크해서, 메신저로 알람주기 \n",
      "8.네이버 API 사용해서, 블로그에 글쓰기 \n"
     ]
    }
   ],
   "source": [
    "# 연습\n",
    "\n",
    "import requests\n",
    "from bs4 import BeautifulSoup\n",
    "\n",
    "res_4 = requests.get('https://davelee-fun.github.io/blog/crawl_html_css.html')\n",
    "soup_4 = BeautifulSoup(res_4.content, 'html.parser')\n",
    "items_4 = soup_4.select('li.course#begin') #태그명.클래스명.아이디명\n",
    "\n",
    "for index,item_4 in enumerate(items_4):\n",
    "    print(str(index+1)+'.'+item_4.get_text().split('-')[1].strip().split('[')[0])"
   ]
  },
  {
   "cell_type": "code",
   "execution_count": null,
   "id": "e6fa87c0",
   "metadata": {},
   "outputs": [],
   "source": []
  },
  {
   "cell_type": "code",
   "execution_count": 8,
   "id": "466d3523",
   "metadata": {
    "scrolled": true
   },
   "outputs": [
    {
     "name": "stdout",
     "output_type": "stream",
     "text": [
      "(중급) - 자동으로 쿠팡파트너스 API 로 가져온 상품 정보, 네이버 블로그/트위터에 홍보하기 [412]\n"
     ]
    }
   ],
   "source": [
    "# 4. select_one함수 이용\n",
    "#select_one 함수는 일반 select함수가 리스트 타입으로 데이터를 리턴하는 것과 달리, 대입값에 매칭되는 가장 첫번째 데이터를 리턴함\n",
    "\n",
    "import requests\n",
    "from bs4 import BeautifulSoup\n",
    "\n",
    "res = requests.get('https://davelee-fun.github.io/blog/crawl_html_css.html')\n",
    "soup = BeautifulSoup(res.content, 'html.parser')\n",
    "item = soup.select_one('ul#dev_course_list > li.course.paid') \n",
    "#select_one()함수의 리턴값은 리스트 타입이 아님! 따라서 select함수와 달리 for문 사용할 필요 없음\n",
    "print(item.get_text())"
   ]
  },
  {
   "cell_type": "code",
   "execution_count": null,
   "id": "a3372dbc",
   "metadata": {},
   "outputs": [],
   "source": []
  },
  {
   "cell_type": "code",
   "execution_count": 6,
   "id": "c870564d",
   "metadata": {
    "scrolled": true
   },
   "outputs": [
    {
     "name": "stdout",
     "output_type": "stream",
     "text": [
      "일정,커리큘럼 타이틀,난이도\n",
      "5.1 ~ 6.15,나만의 엣지있는 블로그 사이트 만들기 (취미로 익히는 IT),초급\n",
      "6.16 ~ 7.31,파이썬과 데이터과학 첫걸음 (IT 기본기 익히기),중급\n"
     ]
    }
   ],
   "source": [
    "# 5. 추출한 것에서 추출하기: find(_all)()/select()로 가져온 데이터를 find(_all)()/select()로 다시 추출할 수 있음(두 함수 호환 가능)\n",
    "\n",
    "import requests\n",
    "from bs4 import BeautifulSoup\n",
    "\n",
    "res = requests.get('https://davelee-fun.github.io/blog/crawl_html_css.html')\n",
    "soup = BeautifulSoup(res.content, 'html.parser')\n",
    "items = soup.select('tr') #tr(행)먼저 갖고오기\n",
    "\n",
    "for item in items:\n",
    "    columns = item.select('td') #tr(행)에 딸린 td(열) 갖고오기\n",
    "    row_str = \"\" # 문자열 초기화\n",
    "    for column in columns:\n",
    "        row_str += ','+column.get_text() # = 'row_str = row_str + column.get_text()'와 같음\n",
    "    print(row_str[1:])"
   ]
  },
  {
   "cell_type": "code",
   "execution_count": null,
   "id": "adfe6749",
   "metadata": {},
   "outputs": [],
   "source": []
  },
  {
   "cell_type": "code",
   "execution_count": 3,
   "id": "695cfa08",
   "metadata": {},
   "outputs": [
    {
     "name": "stdout",
     "output_type": "stream",
     "text": [
      "일정,커리큘럼 타이틀,난이도\n",
      "5.1 ~ 6.15,나만의 엣지있는 블로그 사이트 만들기 (취미로 익히는 IT),초급\n",
      "6.16 ~ 7.31,파이썬과 데이터과학 첫걸음 (IT 기본기 익히기),중급\n"
     ]
    }
   ],
   "source": [
    "# 5번 연습\n",
    "\n",
    "import requests\n",
    "from bs4 import BeautifulSoup\n",
    "\n",
    "res_5 = requests.get('https://davelee-fun.github.io/blog/crawl_html_css.html')\n",
    "soup_5 = BeautifulSoup(res_5.content, 'html.parser')\n",
    "items_5 = soup_5.select('tr')\n",
    "\n",
    "for item_5 in items_5:\n",
    "    columns = item_5.select('td')\n",
    "    row_str = \"\"\n",
    "    for column in columns:\n",
    "        row_str = row_str + ',' + column.get_text()\n",
    "    print(row_str[1:])"
   ]
  },
  {
   "cell_type": "code",
   "execution_count": null,
   "id": "687ddc6c",
   "metadata": {},
   "outputs": [],
   "source": []
  }
 ],
 "metadata": {
  "kernelspec": {
   "display_name": "Python 3",
   "language": "python",
   "name": "python3"
  },
  "language_info": {
   "codemirror_mode": {
    "name": "ipython",
    "version": 3
   },
   "file_extension": ".py",
   "mimetype": "text/x-python",
   "name": "python",
   "nbconvert_exporter": "python",
   "pygments_lexer": "ipython3",
   "version": "3.8.8"
  }
 },
 "nbformat": 4,
 "nbformat_minor": 5
}
