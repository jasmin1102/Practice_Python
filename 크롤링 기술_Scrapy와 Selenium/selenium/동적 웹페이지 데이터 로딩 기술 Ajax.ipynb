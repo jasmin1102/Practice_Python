{
 "cells": [
  {
   "cell_type": "markdown",
   "id": "6310c67b",
   "metadata": {},
   "source": [
    "#### 실전예제1"
   ]
  },
  {
   "cell_type": "code",
   "execution_count": 26,
   "id": "de1047b1",
   "metadata": {},
   "outputs": [
    {
     "name": "stdout",
     "output_type": "stream",
     "text": [
      "[1] 페미고 한남이고 이런말들이 왜 생기는건지..\n",
      "생리적으로 차이는 있겠으나 다들 소중하게 태어난 하나같이 누군가에겐 목숨보다 소중한 사람들인데\n",
      "굳이 여자 남자 편가르기를 왜 합니까들?\n",
      "열심히 노력해 결실은 맺었으면 그냥 박수 쳐줍시다. \n",
      "한심 한심..\n",
      "남의 언행에 하나 하나 의미부여해서 꼬투리 잡지말고 댁들 인생이나 뒤돌아보심들이 ..\n",
      "할일들이 없으면 잠이나 주무세요들..\n",
      "[2] 삐빅-! 정상남-! 앞으로 승승장구 하세요 배우님!!\n",
      "[3] 김기천배우 응원합니다 시원하네요 👍\n",
      "[4] 진짜 얼마나 지능이 낮으면 사상의 자유가 있는 민주주의 국가에서 페미니즘 한다만다로 이리 난리를 피우냐\n",
      "[5] 숏컷하는여자가 페미라면\n",
      "머리기른 남자는?\n",
      "기른던짜 르던  본인에게  어울리면되지\n",
      "안산짧은머리 이쁘기만하던데\n",
      "[6] 먹고 살만하니까  여자 머리 짧은걸로 난리 부르스네\n",
      "[7] 논조가 페미냐 아니냐 이거로 가는데 페미면 뭐 어떤데 .안산 선수가 숏컷의 페미면 비난해도 되고 그냥 숏컷이면 두발자유 뭐 이런거???? 애초에 문제제기 자체가 너무 ㅂ같음. 범죄라도 저질렀음?? 남혐? 남자한테 염산이라도 뿌렸나? 남자니까 죽으라고 활로 쐈대? 한 남누구누구는 죽어야된다고 조리돌림이라도 했대? 실제 숏컷이 뭐가 문젠지도 모르겠고 운동하는사람머리 짧은게 뭐 어떻고 언행 언급하는거도 혐오성 비속어 쌍욕 박은거도 아닌데 저걸가지고 개같은 소리하는거 작작좀..\n",
      "[8] 나도 원래 웅앵웅이나 오조오억 썼었다가 계속 남혐이라길래 안 쓰고는 있지만 아직도 왜 그게 남혐 표현이라는지는 모르겠음 둘 다 덕질용어로 쓰던거 아니었음??\n",
      "[9] 옳으신 말씀\n",
      "[10] 안산 선수가 쓴 발언은 원래는 광고,방송 등등 에 나오던 대중화 된 단어였다가 2021년에 보이루 때문에 갑자기 남혐 단어로 됐음 안산선수는 그 전에 쓴거임\n",
      "[11] 요즘 애들이 밥처먹고 너무 편하게 할짓들이 없으니까\n",
      "\n",
      "지들이  떼부리면  대기업도  수그리고  해주는것만봐서\n",
      "\n",
      "현실 감각이 없습니다\n",
      "\n",
      "국가대표 선수를 경기 중에 교체시키라느니\n",
      "\n",
      "이미 대한민국이 얻은  금메달을 박탈하고  사과시키라느니\n",
      "\n",
      "지들이  세상에 뭐라도 된줄알고  나오는대로 지껄이는데\n",
      "\n",
      "자기 손으로 뭐하나 이뤄본것 없는 ㅈ마난 애새기들이라\n",
      "\n",
      "뭐가 뭔지 천지분간을 못합니다\n",
      "[12] 대체 페미용어가 뭐임??\n",
      "1. 웅앵웅: 영화음향이 좋지 않아\n",
      "배우대사가 웅앵웅..쵸키포키 라고 들린다고 해서\n",
      " 트위터에서 유행한말\n",
      "2. 오조오억: 프로듀스 101 시즌 2때 한 연습생을 응원하는 댓글이 유명해지면서 큰 숫자를 나타내거나 과장하는 밈이 되었음\n",
      "(Ex. 우리 ㅇㅇ이 십점 만점에 오조오억점이야..)\n",
      "\n",
      "대체 여기 어디서 남자혐오가 느껴지는지 모르겠음..실제로 남혐으로 쓰이던 단어도 아니고 나는 덕질용어로 알고 있었음.\n",
      "[13] 그만하세요. 열심히 운동한 선수에게 왜 난리입니까? 존중해주세요.\n",
      "[14] 페미니즘이 뭔지 모르고 여혐에 날뛰는 것들도 한심하고\n",
      "한국 주류 페미니스트들이 공부는 덜 된 채 소속이기주의에 매몰되는 것도 한심하고\n",
      "남녀갈등을 이용해 정치세력화 하는 언론과 극우 정치는 괘심하다.\n",
      "[15] 아부지는 남자고 \n",
      "엄마는 여자다.\n",
      "[16] 온나라가 허버허버 웅앵웅 손모양에 사과하니까 지들이 머라도 된줄알고 또 공격하다가 역풍맞은 도태남부대들.\n"
     ]
    }
   ],
   "source": [
    "from selenium import webdriver #라이브러리는 selenium만 있으면 된다!\n",
    "from selenium.webdriver.common.by import By #WebDriverWait을 통해 기다리고자 하는 특정 태그를 지칭하기 위한 클래스'By'\n",
    "from selenium.webdriver.support.ui import WebDriverWait # WebDrvierWait은 일정기간 동안 특정 태그를 기다리기 위해 선언하는 클래스.\n",
    "from selenium.webdriver.support import expected_conditions as EC #마우스나 키보드를 컨트롤하기 위한 모듈(함수,클래스)\n",
    "from selenium.common.exceptions import TimeoutException\n",
    "#TimeoutException은 WebDriverWait으로 받은 특정 태그가 임의로 지정한 기간동안 나타나지 않는 경우(=예외)를 처리하기 위함\n",
    "import time\n",
    "\n",
    "chromedriver = \"C:/dev_python/Webdriver/chromedriver.exe\"\n",
    "driver = webdriver.Chrome(chromedriver)\n",
    "driver.get('https://news.v.daum.net/v/20210729214530176')\n",
    "\n",
    "loop, count = True, 0  #파이썬의 경우 튜플 형태로 변수 정의 가능!\n",
    "\n",
    "while loop and count < 2:\n",
    "    try:\n",
    "        element = WebDriverWait(driver, 5).until(  #5초 동안 기다리기\n",
    "            EC.presence_of_element_located((By.CSS_SELECTOR, '#alex-area > div > div > div > div.cmt_box > div.alex_more > button'))\n",
    "            #해당 코드(태그 등등)가 있는지 동적페이지 검사하기\n",
    "        )\n",
    "        more_button = driver.find_element_by_css_selector('#alex-area > div > div > div > div.cmt_box > div.alex_more > button')\n",
    "        # 해당 코드(태그)가 있으면 더보기 버튼(more_button)과 더보기 버튼의 코드를 매칭해줌\n",
    "        webdriver.ActionChains(driver).click(more_button).perform() # 더보기 버튼을 클릭하기 위함 #마지막에 perform() 반드시 써줄 것\n",
    "        count = count+1 # count += 1 로 바꾸어 쓸 수 있음 # 더보기 버튼을 10번까지 클릭하게 함\n",
    "        time.sleep(4) #다음 더보기 버튼 누르기 전에 시간차 두기(2초)\n",
    "    except TimeoutException: # 더보기 버튼이 없는 경우\n",
    "        loop = False #while문 종료\n",
    "        \n",
    "#여기서부터는 댓글 내용 크롤링\n",
    "comment_box = driver.find_element_by_css_selector('#alex-area > div > div > div > div.cmt_box > ul.list_comment')\n",
    "comment_list = comment_box.find_elements_by_tag_name('li')\n",
    "for num, comment_item in enumerate(comment_list):\n",
    "    print(\"[\"+str(num+1)+\"]\",comment_item.find_element_by_css_selector('div p').text)\n",
    "driver.quit()"
   ]
  },
  {
   "cell_type": "code",
   "execution_count": null,
   "id": "518f2932",
   "metadata": {},
   "outputs": [],
   "source": []
  },
  {
   "cell_type": "markdown",
   "id": "2f59e86e",
   "metadata": {},
   "source": [
    "#### 실전예제2"
   ]
  },
  {
   "cell_type": "code",
   "execution_count": null,
   "id": "db3f3839",
   "metadata": {},
   "outputs": [],
   "source": [
    "#alex-area > div > div > div > div.cmt_box > ul.list_comment"
   ]
  },
  {
   "cell_type": "code",
   "execution_count": null,
   "id": "9bb1b74d",
   "metadata": {},
   "outputs": [],
   "source": [
    "#alex-area > div > div > div > div.cmt_box > ul.list_comment"
   ]
  }
 ],
 "metadata": {
  "kernelspec": {
   "display_name": "Python 3",
   "language": "python",
   "name": "python3"
  },
  "language_info": {
   "codemirror_mode": {
    "name": "ipython",
    "version": 3
   },
   "file_extension": ".py",
   "mimetype": "text/x-python",
   "name": "python",
   "nbconvert_exporter": "python",
   "pygments_lexer": "ipython3",
   "version": "3.8.8"
  }
 },
 "nbformat": 4,
 "nbformat_minor": 5
}
