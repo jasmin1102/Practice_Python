{
 "cells": [
  {
   "cell_type": "code",
   "execution_count": 3,
   "id": "6bc510f7",
   "metadata": {},
   "outputs": [
    {
     "name": "stdout",
     "output_type": "stream",
     "text": [
      "[1] 효과가 좋으면 상향해야지  3010으로  사망자 엄청 줄거다~\n",
      "[2] 사람을 위하니 맞다는댓글\n",
      "그럼 아예 속도를 1030으로 하지\n",
      "사고 더 줄겠네\n",
      "[3] 안전속도 30킬로 10킬로 하면  사상자 반으로 줄일수 있다\n",
      "속도 줄이면  사상자 줄어드는건  닭대가리도  제안할수 있는거다\n",
      "교통정책 공무원을  닭으로 충원하라\n",
      "[4] 한번도 경험해 보지 못한 저질들이 만들어낸 문화\n",
      "10-20으로 하면 사고가 거의 없을거다\n",
      "[5] 스쿨존 30킬로는 스쿨아워(school hour)에 만 적용해야 한다. 밤늦은 시간에도 30킬로는 말이 안 된다\n",
      "[6] 늦은밤 10차선 텅빈 도로를\n",
      "기어가다보면 욕이 절로 나오지\n",
      "[7] 안전을 위해 속도 제한 하는건 찬성하는데\n",
      "그걸 합리적으로 해야지.\n",
      "왕복 4차로 이내라면 제한 하는게 맞겠지만\n",
      "6차로 이상의 대로를 학교가 근처에 있다고\n",
      "시속 30km로 낮추었던데\n",
      "주변에 어린이 안전을 위한 시설을 보강하고\n",
      "등하교시간만 정해서 제한을 한다던가 할 수도 있는데\n",
      "그냥 행정편의 일괄 30km/h 적용.\n",
      "이따위로 행정을 하니 욕먹지.\n",
      "그리고 도심지 줄이는건 그렇다 치는데\n",
      "국도나 자동차 전용도로는 좀 올리던가.\n",
      "차도 없는 국도를 일괄 70으로 낮춰놔서\n",
      "아주 거북이 기어가더만.\n",
      "좀 상황을 봐가면서 속도 조절을 해야지.\n",
      "[8] 차량속도만 낮출게 아니라 ,교통사고 다발지역의 도로정비와 이면도로 개선도  함께해야하는것 아닌가? 왜 운전자에게만 모든 것을 요구하는지???\n",
      "[9] 도심 제한속도를 낮추는 것이 세계적인 추세라면.... 4020이나 3010으로 하면 되것네..\n",
      "[10] 이게 바로 구더기 무서워 장 못 담그는 거다. 사고날까봐 구간단속도 동서울에서 부산까지 제한속도 50km 해놓지.\n",
      "[11] 탁상행정입니다\n",
      "학교근처 30은 이해가나\n",
      "시내도로50은 절대로 이해안가\n",
      "신호등체계도 개판\n",
      "[12] 자동차 운행 전면 금지 합시다..교통사고 제로..\n",
      "[13] 스쿨존 30키로미터를 40키로미터로 상향할까\n",
      "그렇기 않으면 \n",
      "평일 08!00 - 22!00 까지 운용\n",
      "공휴일은 제한속도  해제\n",
      "합시다 \n",
      "민주당 정권 지긋지긋하다\n",
      "[14] 탁상행정\n",
      "[15] 사고도 줄고 사망이나 중상자 수치도 크게 줄었으면..\n",
      "자~ 일단 보험료부터 내리자~!!\n",
      "[16] 선진국인 유럽 기준이라고?  유럽 가봤냐 유럽 시내는 기본 도로가 왕복 2~4차선이 기본이고 횡단보도, 육교도 부실하다..도로 자체가 좁아서 사람들 걍 건너가는 경우가 많다..그래서 거기는 5030인데..우리나라 도로는 어떠냐..국개의원 여당 모지리들은 그냥 탁상행정에만 빠져서....경제는 쥐뿔도 모르는 것들이 정치를 해대니.\n"
     ]
    }
   ],
   "source": [
    "from selenium import webdriver\n",
    "from selenium.webdriver.common.by import By\n",
    "from selenium.webdriver.support.ui import WebDriverWait\n",
    "from selenium.webdriver.support import expected_conditions as EC\n",
    "from selenium.common.exceptions import TimeoutException\n",
    "import time\n",
    "\n",
    "chromedriver = 'C:/dev_python/Webdriver/chromedriver.exe'\n",
    "driver = webdriver.Chrome(chromedriver)\n",
    "driver.get('https://auto.v.daum.net/v/20210817060013791')\n",
    "\n",
    "loop, count = True, 0\n",
    "\n",
    "while loop and count < 2:\n",
    "    try:\n",
    "        element = WebDriverWait(driver, 5).until(\n",
    "            EC.presence_of_element_located((By.CSS_SELECTOR, '#alex-area > div > div > div > div.cmt_box > div.alex_more > button'))\n",
    "        )\n",
    "        more_button = driver.find_element_by_css_selector('#alex-area > div > div > div > div.cmt_box > div.alex_more > button')\n",
    "        webdriver.ActionChains(driver).click(more_button).perform()\n",
    "        count = count+1\n",
    "        time.sleep(3)\n",
    "    except TimeoutException:\n",
    "        loop = False\n",
    "        \n",
    "comment_box = driver.find_element_by_css_selector('#alex-area > div > div > div > div.cmt_box > ul.list_comment')\n",
    "comment_list = comment_box.find_elements_by_tag_name('li')\n",
    "\n",
    "for num, comment_item in enumerate(comment_list):\n",
    "    print(\"[\"+str(num+1)+']',comment_item.find_element_by_css_selector('div > p').text)\n",
    "\n",
    "driver.quit()"
   ]
  },
  {
   "cell_type": "code",
   "execution_count": null,
   "id": "524d527b",
   "metadata": {},
   "outputs": [],
   "source": []
  }
 ],
 "metadata": {
  "kernelspec": {
   "display_name": "Python 3",
   "language": "python",
   "name": "python3"
  },
  "language_info": {
   "codemirror_mode": {
    "name": "ipython",
    "version": 3
   },
   "file_extension": ".py",
   "mimetype": "text/x-python",
   "name": "python",
   "nbconvert_exporter": "python",
   "pygments_lexer": "ipython3",
   "version": "3.8.8"
  }
 },
 "nbformat": 4,
 "nbformat_minor": 5
}
