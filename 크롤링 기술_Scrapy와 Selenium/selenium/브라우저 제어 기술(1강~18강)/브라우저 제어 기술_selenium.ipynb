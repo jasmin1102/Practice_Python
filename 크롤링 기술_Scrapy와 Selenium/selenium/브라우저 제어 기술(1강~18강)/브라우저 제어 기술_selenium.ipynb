{
 "cells": [
  {
   "cell_type": "markdown",
   "id": "f3409c7d",
   "metadata": {},
   "source": [
    "## 1. selenium을 이용한 크롤링"
   ]
  },
  {
   "cell_type": "code",
   "execution_count": 3,
   "id": "336168da",
   "metadata": {},
   "outputs": [
    {
     "name": "stdout",
     "output_type": "stream",
     "text": [
      "\n",
      "Results\n",
      "Python Documentation by Version\n",
      "Download Python for Other Platforms\n",
      "Release – Python 2.5.3\n",
      "Python 2.5.4 Release\n",
      "Release – Python 2.5.4\n",
      "Python 2.5.3 Release\n",
      "Python 2.5 Release\n",
      "Python 2.5.2 Release\n",
      "Sunsetting Python 2\n",
      "Python 2.5.1 Release\n",
      "Release – Python 3.1.4\n",
      "Release – Python 2.5.0\n",
      "Release – Python 2.5.2\n",
      "Python 3.1.4 Release\n",
      "Python 3.1.3 Release\n",
      "Release – Python 2.5.1\n",
      "Python 3.2.1 Release\n",
      "Release – Python 2.7.9rc1\n",
      "Python 3.0 Release\n",
      "Python 3.2.5 Release\n"
     ]
    }
   ],
   "source": [
    "#selenium과 크롬 웹드라이버 로드\n",
    "from selenium import webdriver # 두 줄의 패턴은 흔히 쓰이는 패턴이므로\n",
    "from selenium.webdriver.common.keys import Keys # 기억해 둘 것\n",
    "import time\n",
    "\n",
    "chromedriver = 'C:/dev_python/Webdriver/chromedriver.exe' #크롬드라이버 로드하기\n",
    "driver = webdriver.Chrome(chromedriver)\n",
    "\n",
    "driver.get('http://python.org') #크롬웹드라이버를 driver라는 변수를 통해 사용하기 때문에, driver변수를 가지고 get메서드를 이용하여 웹페이지 불러오기\n",
    "assert \"Python\" in driver.title #웹페이지 title(타이틀)에 'Python'이라는 문구가 없으면 에러를 띄움 & 본 코드에서 프로그램을 '멈춤'\n",
    "# assert = '~가 있으면!! 다음 코드 실행'\n",
    "# 크롤링할 사이트에 정상적으로 접속했는지를 확인하기 위해 assert를 사용(특정 키워드가 해당 페이지에 있는지를 확인함)\n",
    "# ex) assert \"~\" not in driver.title = \"~\"가 타이틀에 안나오면 다음 코드 실행 (=\"~\"가 나오면 프로그램 멈춤)\n",
    "elem = driver.find_element_by_name(\"q\") # .find_element_by_name(\"~\") : 'name'이라는 속성의 특정한 속성값(=\"~\")을 찾아주는 함수\n",
    "                                        # = 특정사이트에서 특정 검색어에 관한 검색 결과 가져오기\n",
    "                                        # element는 특정한 속성값을 가진 최초의 값만 도출, elements는 모든 값을 리스트로 가져옴\n",
    "                                        # 검색창의 name이 'q' (name = \"q\")\n",
    "                                        # elem이라는 변수에 driver.find_element_by_name(\"q\")라는 search box(검색창) 태그를 가져옴\n",
    "# elem에 여러 변수 취하기\n",
    "\n",
    "elem.clear() # 검색창 초기화\n",
    "elem.send_keys(\"python\") # 검색창에 \"~\" 입력 = 키 이벤트 전송\n",
    "elem.send_keys(Keys.RETURN) # 엔터키 입력\n",
    "\n",
    "assert \"No results found.\" not in driver.page_source # 페이지 소스에 \"No results found\"라는 문구가 안나오면 다음코드를 실행하겠다는 의미\n",
    "\n",
    "time.sleep(2) #10초 기다림 # 일정 시간 동안 다음 코드가 실행되지 못하도록 함 # 'import time'선언 필요\n",
    "\n",
    "h3s = driver.find_elements_by_tag_name('h3') #태그명이 h3인 태그를 모두 추출하여 리스트 형태로 만듦\n",
    "for h3 in h3s:\n",
    "    print(h3.text)\n",
    "\n",
    "driver.quit() #크롬 브라우저 닫기"
   ]
  },
  {
   "cell_type": "markdown",
   "id": "ed44958d",
   "metadata": {},
   "source": [
    "#### 특정 검색 결과를 가져오도록 하는 함수\n",
    "* find_element_by_name('') → 특정한 name값으로 find\n",
    "* find_element_by_tag_name('') → 특정한 태그명으로 find\n",
    "* find_element_by_id('') → 특정한 id값으로 find\n",
    "* find_element_by_class('') → 특정한 class값으로 find\n",
    "* find_element_by_css_selector('') → 특정한 css_selector 값으로 find\n",
    "* find_element_bt_xpath('')\n",
    "-------\n",
    "* find_elements_by_~~~ : elements는 결과값을 리스트 형태로 가져옴"
   ]
  },
  {
   "cell_type": "code",
   "execution_count": null,
   "id": "b80ef005",
   "metadata": {},
   "outputs": [],
   "source": [
    "from selenium import webdriver\n",
    "from selenium.webdriver.common.keys import Keys\n",
    "import time\n",
    "\n",
    "chromedriver = 'C:/dev_python/Webdriver/chromedriver.exe'\n",
    "driver = webdriver.Chrome(chromedriver)\n",
    "#------여기까지는 selenium을 사용하기 위해 반드시 입력해야 할 코드-----\n",
    "\n",
    "driver.get('http://python.org') #get 메서드를 통해 웹페이지 접속 # 'driver.메서드'\n",
    "print(driver.title)#크롤링하고자 하는 웹페이지의 타이틀 확인\n",
    "print(driver.current_url)#크롤링하고자 하는 웹페이지의 주소 확인\n",
    "\n",
    "assert 'Python' in driver.title #driver.title은 string데이터임\n",
    "\n",
    "search = driver.find_element_by_id('id-search-field')\n",
    "search.clear()\n",
    "search.send_keys('python')\n",
    "search.send_keys(Keys.RETURN)#Keys라는 클래스에 들어있는 함수'RETURN'\n",
    "\n",
    "time.sleep(2)\n",
    "\n",
    "assert \"No results found.\" not in driver.page_source\n",
    "\n",
    "data = driver.find_elements_by_css_selector('#content > div > section > form > ul > li > h3 > a')\n",
    "for item in data:\n",
    "    print(item.text)\n",
    "\n",
    "driver.quit()"
   ]
  },
  {
   "cell_type": "code",
   "execution_count": null,
   "id": "6adda1bc",
   "metadata": {},
   "outputs": [],
   "source": [
    "dir(Keys) #dir() : 특정 클래스에 있는 함수들(method)이나 변수들(attribute)을 출력해주는 함수"
   ]
  },
  {
   "cell_type": "code",
   "execution_count": null,
   "id": "35b87b04",
   "metadata": {},
   "outputs": [],
   "source": []
  },
  {
   "cell_type": "markdown",
   "id": "c0fec433",
   "metadata": {},
   "source": [
    "## 2. PhantomJs를 이용한 크롤링"
   ]
  },
  {
   "cell_type": "code",
   "execution_count": 1,
   "id": "4b543856",
   "metadata": {},
   "outputs": [
    {
     "name": "stderr",
     "output_type": "stream",
     "text": [
      "C:\\ProgramData\\Anaconda3\\lib\\site-packages\\selenium\\webdriver\\phantomjs\\webdriver.py:49: UserWarning: Selenium support for PhantomJS has been deprecated, please use headless versions of Chrome or Firefox instead\n",
      "  warnings.warn('Selenium support for PhantomJS has been deprecated, please use headless '\n"
     ]
    },
    {
     "name": "stdout",
     "output_type": "stream",
     "text": [
      "Welcome to Python.org\n",
      "https://www.python.org/\n",
      "Python Documentation by Version\n",
      "Download Python for Other Platforms\n",
      "Python 2.5.3\n",
      "Python 2.5.4 Release\n",
      "Python 2.5.4\n",
      "Python 2.5.3 Release\n",
      "Python 2.5 Release\n",
      "Python 2.5.2 Release\n",
      "Sunsetting Python 2\n",
      "Python 2.5.1 Release\n",
      "Python 3.1.4\n",
      "Python 2.5.0\n",
      "Python 2.5.2\n",
      "Python 3.1.4 Release\n",
      "Python 3.1.3 Release\n",
      "Python 2.5.1\n",
      "Python 2.7.9rc1\n",
      "Python 3.2.1 Release\n",
      "Python 3.0 Release\n",
      "Python 3.2.5 Release\n"
     ]
    }
   ],
   "source": [
    "from selenium import webdriver\n",
    "from selenium.webdriver.common.keys import Keys\n",
    "import time\n",
    "#selenium 라이브러리를 사용하는 것은 동일\n",
    "phantomjs_file = 'C:/dev_python/Phantomjs/phantomjs'\n",
    "driver = webdriver.PhantomJS(phantomjs_file)\n",
    "#------여기까지는 PhantomJS를 사용하기 위해 반드시 입력해야 할 코드-----\n",
    "# selenium을 쓸 때와 달리 웹페이지가 열리지 않으나, 동작은 동일하게 수행함\n",
    "\n",
    "driver.get('http://python.org') #get 메서드를 통해 웹페이지 접속 # 'driver.메서드'\n",
    "print(driver.title)#크롤링하고자 하는 웹페이지의 타이틀 확인\n",
    "print(driver.current_url)#크롤링하고자 하는 웹페이지의 주소 확인\n",
    "\n",
    "assert 'Python' in driver.title #driver.title은 string데이터임\n",
    "\n",
    "search = driver.find_element_by_id('id-search-field')\n",
    "search.clear()\n",
    "search.send_keys('python')\n",
    "search.send_keys(Keys.RETURN)#Keys라는 클래스에 들어있는 함수'RETURN'\n",
    "\n",
    "time.sleep(2)\n",
    "\n",
    "assert \"No results found.\" not in driver.page_source\n",
    "\n",
    "data = driver.find_elements_by_css_selector('#content > div > section > form > ul > li > h3 > a')\n",
    "for item in data:\n",
    "    print(item.text)\n",
    "\n",
    "driver.quit()"
   ]
  },
  {
   "cell_type": "code",
   "execution_count": null,
   "id": "56136e21",
   "metadata": {},
   "outputs": [],
   "source": []
  },
  {
   "cell_type": "code",
   "execution_count": null,
   "id": "d5caf955",
   "metadata": {},
   "outputs": [],
   "source": []
  },
  {
   "cell_type": "markdown",
   "id": "23356431",
   "metadata": {},
   "source": [
    "## 3. Headless Chrome을 이용한 크롤링\n",
    "- PhantomJS와 유사한 기술"
   ]
  },
  {
   "cell_type": "code",
   "execution_count": 10,
   "id": "1f929ec3",
   "metadata": {},
   "outputs": [
    {
     "name": "stdout",
     "output_type": "stream",
     "text": [
      "Welcome to Python.org\n",
      "https://www.python.org/\n",
      "Python Documentation by Version\n",
      "Download Python for Other Platforms\n",
      "Python 2.5.3\n",
      "Python 2.5.4 Release\n",
      "Python 2.5.4\n",
      "Python 2.5.3 Release\n",
      "Python 2.5 Release\n",
      "Python 2.5.2 Release\n",
      "Sunsetting Python 2\n",
      "Python 2.5.1 Release\n",
      "Python 3.1.4\n",
      "Python 2.5.0\n",
      "Python 2.5.2\n",
      "Python 3.1.4 Release\n",
      "Python 3.1.3 Release\n",
      "Python 2.5.1\n",
      "Python 2.7.9rc1\n",
      "Python 3.2.1 Release\n",
      "Python 3.0 Release\n",
      "Python 3.2.5 Release\n"
     ]
    }
   ],
   "source": [
    "from selenium import webdriver\n",
    "from selenium.webdriver.common.keys import Keys\n",
    "import time\n",
    "\n",
    "chromedriver = 'C:/dev_python/Webdriver/chromedriver.exe' #크롬드라이버에 로그인\n",
    "headless_options = webdriver.ChromeOptions() #크롬드라이버에 로그인할 때 추가할 수 있는 옵션을 만들어주기 위한 구문: 옵션 생성\n",
    "headless_options.add_argument('headless') # 'headless'라는 옵션 생성\n",
    "headless_options.add_argument('window-size=1920x1080') # 웹브라우저 사이즈를 지정하는 옵션 생성\n",
    "headless_options.add_argument('disable-gpu') # 그래픽카드를 쓰지 않음을 나타내는 옵션 생성\n",
    "headless_options.add_argument('lang=ko_KR') #사용자가 쓰고 있는 언어가 한국어임을 지정하는 옵션 생성\n",
    "#보통 첫번째(,세번째) 옵션만 주로 쓰임\n",
    "driver = webdriver.Chrome(chromedriver, options = headless_options)\n",
    "\n",
    "driver.get('http://python.org')\n",
    "print(driver.title)\n",
    "print(driver.current_url)\n",
    "\n",
    "assert 'Python' in driver.title #driver.title은 string데이터임\n",
    "search = driver.find_element_by_id('id-search-field')\n",
    "search.clear()\n",
    "search.send_keys('python')\n",
    "search.send_keys(Keys.RETURN)#Keys라는 클래스에 들어있는 함수'RETURN'\n",
    "\n",
    "time.sleep(2)\n",
    "\n",
    "assert \"No results found.\" not in driver.page_source\n",
    "\n",
    "data = driver.find_elements_by_css_selector('#content > div > section > form > ul > li > h3 > a')\n",
    "for item in data:\n",
    "    print(item.text)\n",
    "\n",
    "driver.quit()"
   ]
  },
  {
   "cell_type": "code",
   "execution_count": null,
   "id": "c5b8ab41",
   "metadata": {},
   "outputs": [],
   "source": []
  }
 ],
 "metadata": {
  "kernelspec": {
   "display_name": "Python 3",
   "language": "python",
   "name": "python3"
  },
  "language_info": {
   "codemirror_mode": {
    "name": "ipython",
    "version": 3
   },
   "file_extension": ".py",
   "mimetype": "text/x-python",
   "name": "python",
   "nbconvert_exporter": "python",
   "pygments_lexer": "ipython3",
   "version": "3.8.8"
  }
 },
 "nbformat": 4,
 "nbformat_minor": 5
}
